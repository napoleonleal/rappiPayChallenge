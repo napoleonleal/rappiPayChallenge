{
  "nbformat": 4,
  "nbformat_minor": 0,
  "metadata": {
    "colab": {
      "provenance": []
    },
    "kernelspec": {
      "name": "python3",
      "display_name": "Python 3"
    },
    "language_info": {
      "name": "python"
    }
  },
  "cells": [
    {
      "cell_type": "markdown",
      "source": [
        "<div align=\"center\"> <h1>RappiPay Challenge Fraud Detection EDA & Customer Segmentation</h1> </div>\n",
        "\n",
        "Napoleon Leal "
      ],
      "metadata": {
        "id": "e7JjnWs9x6m1"
      }
    },
    {
      "cell_type": "markdown",
      "source": [
        "Contents:\n",
        "\n",
        "1. Introduction\n",
        "2. Exploratory Data Analysis\n",
        "  - Feature Analysis\n",
        "  - Data Cleaning\n",
        "  - Descriptive Statistics\n",
        "  - Correlation\n",
        "3. Customer Segmentation\n",
        "4. Conclusion"
      ],
      "metadata": {
        "id": "uHFJihqHyYyL"
      }
    },
    {
      "cell_type": "markdown",
      "source": [
        "## 1. Introduction\n",
        "\n",
        "The aim of this study is to analyze the given data, make conclusions, prepate it for a supervised learning neural network model to classify user based on the variables given in this dataset to predict a credit card default.\n",
        "\n",
        "### 1.1 Environment\n",
        "The analysis has been fully made in Python and their respective popular libraries for data analysis (numpy, pandas, matplotlib, seaborn, imblearn), furthermore in the model building step i use machine learning frameworks (scikit-learn, tensorflow with keras)\n",
        "\n"
      ],
      "metadata": {
        "id": "_bG2WDerzWai"
      }
    },
    {
      "cell_type": "markdown",
      "source": [
        "## 2. Exploratory Data Analysis (EDA)\n",
        "\n",
        "#### Feature Analysis"
      ],
      "metadata": {
        "id": "_fPcOPN213Y2"
      }
    },
    {
      "cell_type": "code",
      "source": [
        "# Import libraries\n",
        "import numpy as np\n",
        "import pandas as pd\n",
        "import matplotlib.pyplot as plt\n",
        "import seaborn as sns\n",
        "import json\n",
        "import warnings   \n",
        "warnings.filterwarnings(\"ignore\")\n",
        "import plotly.express as px\n",
        "import plotly.graph_objs as go\n",
        "from plotly.subplots import make_subplots\n",
        "import matplotlib.pyplot as plt\n",
        "import matplotlib as mpl"
      ],
      "metadata": {
        "id": "BJXw85_T10xl"
      },
      "execution_count": 29,
      "outputs": []
    },
    {
      "cell_type": "code",
      "source": [
        "# Get the data\n",
        "rappi_df = pd.read_csv('/content/ds_challenge_data_2022.csv', encoding='utf-16')\n",
        "rappi_df.head()"
      ],
      "metadata": {
        "colab": {
          "base_uri": "https://localhost:8080/",
          "height": 337
        },
        "id": "kLxl-WLQ2cNz",
        "outputId": "c75748bf-56e6-4ebe-b299-6ad01224ef78"
      },
      "execution_count": 31,
      "outputs": [
        {
          "output_type": "execute_result",
          "data": {
            "text/plain": [
              "   transaction_id  user_id género  linea_tc  interes_tc   monto     fecha  \\\n",
              "0               1      573      M     87000          56  581.03  02/01/20   \n",
              "1               2      737      F     34000          51  421.73  02/01/20   \n",
              "2               3      887      F     52000          38  399.55  02/01/20   \n",
              "3               4     1304      M     67000          60  828.01  02/01/20   \n",
              "4               5     1361      F     28000          52  886.04  02/01/20   \n",
              "\n",
              "   hora                                        dispositivo  \\\n",
              "0     0  {'año': 2019, 'marca': 'Apple', 'proveedor': '...   \n",
              "1     0  {'año': 2021, 'marca': 'Huawei', 'proveedor': ...   \n",
              "2     0  {'año': 2017, 'marca': 'Apple', 'proveedor': '...   \n",
              "3     0  {'año': 2019, 'marca': 'Samsung', 'proveedor':...   \n",
              "4     0  {'año': 2021, 'marca': 'Samsung', 'proveedor':...   \n",
              "\n",
              "        establecimiento            ciudad  status_txn  is_prime  dcto  \\\n",
              "0              Farmacia  Ciudad de México    Aceptada     False   0.0   \n",
              "1  Tienda departamental            Cancún    Aceptada     False   0.0   \n",
              "2              Farmacia           Tijuana  En proceso     False   0.0   \n",
              "3  Tienda departamental  Ciudad de México  En proceso     False   0.0   \n",
              "4          Supermercado            Cancún    Aceptada     False   0.0   \n",
              "\n",
              "   cashback fraude  \n",
              "0     17.43  False  \n",
              "1     12.65  False  \n",
              "2     11.99  False  \n",
              "3     24.84  False  \n",
              "4     26.58  False  "
            ],
            "text/html": [
              "\n",
              "  <div id=\"df-d2afe26e-90bc-4fd2-a214-545d49fa9dc7\">\n",
              "    <div class=\"colab-df-container\">\n",
              "      <div>\n",
              "<style scoped>\n",
              "    .dataframe tbody tr th:only-of-type {\n",
              "        vertical-align: middle;\n",
              "    }\n",
              "\n",
              "    .dataframe tbody tr th {\n",
              "        vertical-align: top;\n",
              "    }\n",
              "\n",
              "    .dataframe thead th {\n",
              "        text-align: right;\n",
              "    }\n",
              "</style>\n",
              "<table border=\"1\" class=\"dataframe\">\n",
              "  <thead>\n",
              "    <tr style=\"text-align: right;\">\n",
              "      <th></th>\n",
              "      <th>transaction_id</th>\n",
              "      <th>user_id</th>\n",
              "      <th>género</th>\n",
              "      <th>linea_tc</th>\n",
              "      <th>interes_tc</th>\n",
              "      <th>monto</th>\n",
              "      <th>fecha</th>\n",
              "      <th>hora</th>\n",
              "      <th>dispositivo</th>\n",
              "      <th>establecimiento</th>\n",
              "      <th>ciudad</th>\n",
              "      <th>status_txn</th>\n",
              "      <th>is_prime</th>\n",
              "      <th>dcto</th>\n",
              "      <th>cashback</th>\n",
              "      <th>fraude</th>\n",
              "    </tr>\n",
              "  </thead>\n",
              "  <tbody>\n",
              "    <tr>\n",
              "      <th>0</th>\n",
              "      <td>1</td>\n",
              "      <td>573</td>\n",
              "      <td>M</td>\n",
              "      <td>87000</td>\n",
              "      <td>56</td>\n",
              "      <td>581.03</td>\n",
              "      <td>02/01/20</td>\n",
              "      <td>0</td>\n",
              "      <td>{'año': 2019, 'marca': 'Apple', 'proveedor': '...</td>\n",
              "      <td>Farmacia</td>\n",
              "      <td>Ciudad de México</td>\n",
              "      <td>Aceptada</td>\n",
              "      <td>False</td>\n",
              "      <td>0.0</td>\n",
              "      <td>17.43</td>\n",
              "      <td>False</td>\n",
              "    </tr>\n",
              "    <tr>\n",
              "      <th>1</th>\n",
              "      <td>2</td>\n",
              "      <td>737</td>\n",
              "      <td>F</td>\n",
              "      <td>34000</td>\n",
              "      <td>51</td>\n",
              "      <td>421.73</td>\n",
              "      <td>02/01/20</td>\n",
              "      <td>0</td>\n",
              "      <td>{'año': 2021, 'marca': 'Huawei', 'proveedor': ...</td>\n",
              "      <td>Tienda departamental</td>\n",
              "      <td>Cancún</td>\n",
              "      <td>Aceptada</td>\n",
              "      <td>False</td>\n",
              "      <td>0.0</td>\n",
              "      <td>12.65</td>\n",
              "      <td>False</td>\n",
              "    </tr>\n",
              "    <tr>\n",
              "      <th>2</th>\n",
              "      <td>3</td>\n",
              "      <td>887</td>\n",
              "      <td>F</td>\n",
              "      <td>52000</td>\n",
              "      <td>38</td>\n",
              "      <td>399.55</td>\n",
              "      <td>02/01/20</td>\n",
              "      <td>0</td>\n",
              "      <td>{'año': 2017, 'marca': 'Apple', 'proveedor': '...</td>\n",
              "      <td>Farmacia</td>\n",
              "      <td>Tijuana</td>\n",
              "      <td>En proceso</td>\n",
              "      <td>False</td>\n",
              "      <td>0.0</td>\n",
              "      <td>11.99</td>\n",
              "      <td>False</td>\n",
              "    </tr>\n",
              "    <tr>\n",
              "      <th>3</th>\n",
              "      <td>4</td>\n",
              "      <td>1304</td>\n",
              "      <td>M</td>\n",
              "      <td>67000</td>\n",
              "      <td>60</td>\n",
              "      <td>828.01</td>\n",
              "      <td>02/01/20</td>\n",
              "      <td>0</td>\n",
              "      <td>{'año': 2019, 'marca': 'Samsung', 'proveedor':...</td>\n",
              "      <td>Tienda departamental</td>\n",
              "      <td>Ciudad de México</td>\n",
              "      <td>En proceso</td>\n",
              "      <td>False</td>\n",
              "      <td>0.0</td>\n",
              "      <td>24.84</td>\n",
              "      <td>False</td>\n",
              "    </tr>\n",
              "    <tr>\n",
              "      <th>4</th>\n",
              "      <td>5</td>\n",
              "      <td>1361</td>\n",
              "      <td>F</td>\n",
              "      <td>28000</td>\n",
              "      <td>52</td>\n",
              "      <td>886.04</td>\n",
              "      <td>02/01/20</td>\n",
              "      <td>0</td>\n",
              "      <td>{'año': 2021, 'marca': 'Samsung', 'proveedor':...</td>\n",
              "      <td>Supermercado</td>\n",
              "      <td>Cancún</td>\n",
              "      <td>Aceptada</td>\n",
              "      <td>False</td>\n",
              "      <td>0.0</td>\n",
              "      <td>26.58</td>\n",
              "      <td>False</td>\n",
              "    </tr>\n",
              "  </tbody>\n",
              "</table>\n",
              "</div>\n",
              "      <button class=\"colab-df-convert\" onclick=\"convertToInteractive('df-d2afe26e-90bc-4fd2-a214-545d49fa9dc7')\"\n",
              "              title=\"Convert this dataframe to an interactive table.\"\n",
              "              style=\"display:none;\">\n",
              "        \n",
              "  <svg xmlns=\"http://www.w3.org/2000/svg\" height=\"24px\"viewBox=\"0 0 24 24\"\n",
              "       width=\"24px\">\n",
              "    <path d=\"M0 0h24v24H0V0z\" fill=\"none\"/>\n",
              "    <path d=\"M18.56 5.44l.94 2.06.94-2.06 2.06-.94-2.06-.94-.94-2.06-.94 2.06-2.06.94zm-11 1L8.5 8.5l.94-2.06 2.06-.94-2.06-.94L8.5 2.5l-.94 2.06-2.06.94zm10 10l.94 2.06.94-2.06 2.06-.94-2.06-.94-.94-2.06-.94 2.06-2.06.94z\"/><path d=\"M17.41 7.96l-1.37-1.37c-.4-.4-.92-.59-1.43-.59-.52 0-1.04.2-1.43.59L10.3 9.45l-7.72 7.72c-.78.78-.78 2.05 0 2.83L4 21.41c.39.39.9.59 1.41.59.51 0 1.02-.2 1.41-.59l7.78-7.78 2.81-2.81c.8-.78.8-2.07 0-2.86zM5.41 20L4 18.59l7.72-7.72 1.47 1.35L5.41 20z\"/>\n",
              "  </svg>\n",
              "      </button>\n",
              "      \n",
              "  <style>\n",
              "    .colab-df-container {\n",
              "      display:flex;\n",
              "      flex-wrap:wrap;\n",
              "      gap: 12px;\n",
              "    }\n",
              "\n",
              "    .colab-df-convert {\n",
              "      background-color: #E8F0FE;\n",
              "      border: none;\n",
              "      border-radius: 50%;\n",
              "      cursor: pointer;\n",
              "      display: none;\n",
              "      fill: #1967D2;\n",
              "      height: 32px;\n",
              "      padding: 0 0 0 0;\n",
              "      width: 32px;\n",
              "    }\n",
              "\n",
              "    .colab-df-convert:hover {\n",
              "      background-color: #E2EBFA;\n",
              "      box-shadow: 0px 1px 2px rgba(60, 64, 67, 0.3), 0px 1px 3px 1px rgba(60, 64, 67, 0.15);\n",
              "      fill: #174EA6;\n",
              "    }\n",
              "\n",
              "    [theme=dark] .colab-df-convert {\n",
              "      background-color: #3B4455;\n",
              "      fill: #D2E3FC;\n",
              "    }\n",
              "\n",
              "    [theme=dark] .colab-df-convert:hover {\n",
              "      background-color: #434B5C;\n",
              "      box-shadow: 0px 1px 3px 1px rgba(0, 0, 0, 0.15);\n",
              "      filter: drop-shadow(0px 1px 2px rgba(0, 0, 0, 0.3));\n",
              "      fill: #FFFFFF;\n",
              "    }\n",
              "  </style>\n",
              "\n",
              "      <script>\n",
              "        const buttonEl =\n",
              "          document.querySelector('#df-d2afe26e-90bc-4fd2-a214-545d49fa9dc7 button.colab-df-convert');\n",
              "        buttonEl.style.display =\n",
              "          google.colab.kernel.accessAllowed ? 'block' : 'none';\n",
              "\n",
              "        async function convertToInteractive(key) {\n",
              "          const element = document.querySelector('#df-d2afe26e-90bc-4fd2-a214-545d49fa9dc7');\n",
              "          const dataTable =\n",
              "            await google.colab.kernel.invokeFunction('convertToInteractive',\n",
              "                                                     [key], {});\n",
              "          if (!dataTable) return;\n",
              "\n",
              "          const docLinkHtml = 'Like what you see? Visit the ' +\n",
              "            '<a target=\"_blank\" href=https://colab.research.google.com/notebooks/data_table.ipynb>data table notebook</a>'\n",
              "            + ' to learn more about interactive tables.';\n",
              "          element.innerHTML = '';\n",
              "          dataTable['output_type'] = 'display_data';\n",
              "          await google.colab.output.renderOutput(dataTable, element);\n",
              "          const docLink = document.createElement('div');\n",
              "          docLink.innerHTML = docLinkHtml;\n",
              "          element.appendChild(docLink);\n",
              "        }\n",
              "      </script>\n",
              "    </div>\n",
              "  </div>\n",
              "  "
            ]
          },
          "metadata": {},
          "execution_count": 31
        }
      ]
    },
    {
      "cell_type": "code",
      "source": [
        "rappi_df"
      ],
      "metadata": {
        "colab": {
          "base_uri": "https://localhost:8080/",
          "height": 780
        },
        "id": "i9TRo2u-xhfa",
        "outputId": "a7d7633d-bafa-44a1-e587-9471e9afe625"
      },
      "execution_count": 33,
      "outputs": [
        {
          "output_type": "execute_result",
          "data": {
            "text/plain": [
              "       transaction_id  user_id género  linea_tc  interes_tc    monto  \\\n",
              "0                   1      573      M     87000          56   581.03   \n",
              "1                   2      737      F     34000          51   421.73   \n",
              "2                   3      887      F     52000          38   399.55   \n",
              "3                   4     1304      M     67000          60   828.01   \n",
              "4                   5     1361      F     28000          52   886.04   \n",
              "...               ...      ...    ...       ...         ...      ...   \n",
              "13647           13648     1853      F     57000          46   736.20   \n",
              "13648           13649     1914      F     57000          52   251.05   \n",
              "13649           13650     1939      M     43000          33   634.86   \n",
              "13650           13651     1975      F     40000          54   362.82   \n",
              "13651           13652     2078      M     40000          37  1089.15   \n",
              "\n",
              "          fecha  hora                                        dispositivo  \\\n",
              "0      02/01/20     0  {'año': 2019, 'marca': 'Apple', 'proveedor': '...   \n",
              "1      02/01/20     0  {'año': 2021, 'marca': 'Huawei', 'proveedor': ...   \n",
              "2      02/01/20     0  {'año': 2017, 'marca': 'Apple', 'proveedor': '...   \n",
              "3      02/01/20     0  {'año': 2019, 'marca': 'Samsung', 'proveedor':...   \n",
              "4      02/01/20     0  {'año': 2021, 'marca': 'Samsung', 'proveedor':...   \n",
              "...         ...   ...                                                ...   \n",
              "13647  16/01/20    17  {'año': 2015, 'marca': 'Motorola', 'proveedor'...   \n",
              "13648  16/01/20    17  {'año': 2020, 'marca': 'Samsung', 'proveedor':...   \n",
              "13649  16/01/20    17  {'año': 2015, 'marca': 'Samsung', 'proveedor':...   \n",
              "13650  16/01/20    17  {'año': 2014, 'marca': 'Samsung', 'proveedor':...   \n",
              "13651  16/01/20    17  {'año': 2020, 'marca': 'Samsung', 'proveedor':...   \n",
              "\n",
              "            establecimiento            ciudad  status_txn  is_prime   dcto  \\\n",
              "0                  Farmacia  Ciudad de México    Aceptada     False   0.00   \n",
              "1      Tienda departamental            Cancún    Aceptada     False   0.00   \n",
              "2                  Farmacia           Tijuana  En proceso     False   0.00   \n",
              "3      Tienda departamental  Ciudad de México  En proceso     False   0.00   \n",
              "4              Supermercado            Cancún    Aceptada     False   0.00   \n",
              "...                     ...               ...         ...       ...    ...   \n",
              "13647       Compra en línea       Guadalajara    Aceptada      True  36.81   \n",
              "13648          Supermercado            Cancún   Rechazada     False   0.00   \n",
              "13649                   NaN         Monterrey    Aceptada     False  31.74   \n",
              "13650              Farmacia         Monterrey    Aceptada     False   0.00   \n",
              "13651              Farmacia         Monterrey    Aceptada     False    NaN   \n",
              "\n",
              "       cashback fraude  \n",
              "0         17.43  False  \n",
              "1         12.65  False  \n",
              "2         11.99  False  \n",
              "3         24.84  False  \n",
              "4         26.58  False  \n",
              "...         ...    ...  \n",
              "13647     22.09  False  \n",
              "13648      7.53  False  \n",
              "13649     19.05  False  \n",
              "13650     10.88  False  \n",
              "13651       NaN    NaN  \n",
              "\n",
              "[13652 rows x 16 columns]"
            ],
            "text/html": [
              "\n",
              "  <div id=\"df-02be0d2e-01b1-4fc7-a225-8a8db3465994\">\n",
              "    <div class=\"colab-df-container\">\n",
              "      <div>\n",
              "<style scoped>\n",
              "    .dataframe tbody tr th:only-of-type {\n",
              "        vertical-align: middle;\n",
              "    }\n",
              "\n",
              "    .dataframe tbody tr th {\n",
              "        vertical-align: top;\n",
              "    }\n",
              "\n",
              "    .dataframe thead th {\n",
              "        text-align: right;\n",
              "    }\n",
              "</style>\n",
              "<table border=\"1\" class=\"dataframe\">\n",
              "  <thead>\n",
              "    <tr style=\"text-align: right;\">\n",
              "      <th></th>\n",
              "      <th>transaction_id</th>\n",
              "      <th>user_id</th>\n",
              "      <th>género</th>\n",
              "      <th>linea_tc</th>\n",
              "      <th>interes_tc</th>\n",
              "      <th>monto</th>\n",
              "      <th>fecha</th>\n",
              "      <th>hora</th>\n",
              "      <th>dispositivo</th>\n",
              "      <th>establecimiento</th>\n",
              "      <th>ciudad</th>\n",
              "      <th>status_txn</th>\n",
              "      <th>is_prime</th>\n",
              "      <th>dcto</th>\n",
              "      <th>cashback</th>\n",
              "      <th>fraude</th>\n",
              "    </tr>\n",
              "  </thead>\n",
              "  <tbody>\n",
              "    <tr>\n",
              "      <th>0</th>\n",
              "      <td>1</td>\n",
              "      <td>573</td>\n",
              "      <td>M</td>\n",
              "      <td>87000</td>\n",
              "      <td>56</td>\n",
              "      <td>581.03</td>\n",
              "      <td>02/01/20</td>\n",
              "      <td>0</td>\n",
              "      <td>{'año': 2019, 'marca': 'Apple', 'proveedor': '...</td>\n",
              "      <td>Farmacia</td>\n",
              "      <td>Ciudad de México</td>\n",
              "      <td>Aceptada</td>\n",
              "      <td>False</td>\n",
              "      <td>0.00</td>\n",
              "      <td>17.43</td>\n",
              "      <td>False</td>\n",
              "    </tr>\n",
              "    <tr>\n",
              "      <th>1</th>\n",
              "      <td>2</td>\n",
              "      <td>737</td>\n",
              "      <td>F</td>\n",
              "      <td>34000</td>\n",
              "      <td>51</td>\n",
              "      <td>421.73</td>\n",
              "      <td>02/01/20</td>\n",
              "      <td>0</td>\n",
              "      <td>{'año': 2021, 'marca': 'Huawei', 'proveedor': ...</td>\n",
              "      <td>Tienda departamental</td>\n",
              "      <td>Cancún</td>\n",
              "      <td>Aceptada</td>\n",
              "      <td>False</td>\n",
              "      <td>0.00</td>\n",
              "      <td>12.65</td>\n",
              "      <td>False</td>\n",
              "    </tr>\n",
              "    <tr>\n",
              "      <th>2</th>\n",
              "      <td>3</td>\n",
              "      <td>887</td>\n",
              "      <td>F</td>\n",
              "      <td>52000</td>\n",
              "      <td>38</td>\n",
              "      <td>399.55</td>\n",
              "      <td>02/01/20</td>\n",
              "      <td>0</td>\n",
              "      <td>{'año': 2017, 'marca': 'Apple', 'proveedor': '...</td>\n",
              "      <td>Farmacia</td>\n",
              "      <td>Tijuana</td>\n",
              "      <td>En proceso</td>\n",
              "      <td>False</td>\n",
              "      <td>0.00</td>\n",
              "      <td>11.99</td>\n",
              "      <td>False</td>\n",
              "    </tr>\n",
              "    <tr>\n",
              "      <th>3</th>\n",
              "      <td>4</td>\n",
              "      <td>1304</td>\n",
              "      <td>M</td>\n",
              "      <td>67000</td>\n",
              "      <td>60</td>\n",
              "      <td>828.01</td>\n",
              "      <td>02/01/20</td>\n",
              "      <td>0</td>\n",
              "      <td>{'año': 2019, 'marca': 'Samsung', 'proveedor':...</td>\n",
              "      <td>Tienda departamental</td>\n",
              "      <td>Ciudad de México</td>\n",
              "      <td>En proceso</td>\n",
              "      <td>False</td>\n",
              "      <td>0.00</td>\n",
              "      <td>24.84</td>\n",
              "      <td>False</td>\n",
              "    </tr>\n",
              "    <tr>\n",
              "      <th>4</th>\n",
              "      <td>5</td>\n",
              "      <td>1361</td>\n",
              "      <td>F</td>\n",
              "      <td>28000</td>\n",
              "      <td>52</td>\n",
              "      <td>886.04</td>\n",
              "      <td>02/01/20</td>\n",
              "      <td>0</td>\n",
              "      <td>{'año': 2021, 'marca': 'Samsung', 'proveedor':...</td>\n",
              "      <td>Supermercado</td>\n",
              "      <td>Cancún</td>\n",
              "      <td>Aceptada</td>\n",
              "      <td>False</td>\n",
              "      <td>0.00</td>\n",
              "      <td>26.58</td>\n",
              "      <td>False</td>\n",
              "    </tr>\n",
              "    <tr>\n",
              "      <th>...</th>\n",
              "      <td>...</td>\n",
              "      <td>...</td>\n",
              "      <td>...</td>\n",
              "      <td>...</td>\n",
              "      <td>...</td>\n",
              "      <td>...</td>\n",
              "      <td>...</td>\n",
              "      <td>...</td>\n",
              "      <td>...</td>\n",
              "      <td>...</td>\n",
              "      <td>...</td>\n",
              "      <td>...</td>\n",
              "      <td>...</td>\n",
              "      <td>...</td>\n",
              "      <td>...</td>\n",
              "      <td>...</td>\n",
              "    </tr>\n",
              "    <tr>\n",
              "      <th>13647</th>\n",
              "      <td>13648</td>\n",
              "      <td>1853</td>\n",
              "      <td>F</td>\n",
              "      <td>57000</td>\n",
              "      <td>46</td>\n",
              "      <td>736.20</td>\n",
              "      <td>16/01/20</td>\n",
              "      <td>17</td>\n",
              "      <td>{'año': 2015, 'marca': 'Motorola', 'proveedor'...</td>\n",
              "      <td>Compra en línea</td>\n",
              "      <td>Guadalajara</td>\n",
              "      <td>Aceptada</td>\n",
              "      <td>True</td>\n",
              "      <td>36.81</td>\n",
              "      <td>22.09</td>\n",
              "      <td>False</td>\n",
              "    </tr>\n",
              "    <tr>\n",
              "      <th>13648</th>\n",
              "      <td>13649</td>\n",
              "      <td>1914</td>\n",
              "      <td>F</td>\n",
              "      <td>57000</td>\n",
              "      <td>52</td>\n",
              "      <td>251.05</td>\n",
              "      <td>16/01/20</td>\n",
              "      <td>17</td>\n",
              "      <td>{'año': 2020, 'marca': 'Samsung', 'proveedor':...</td>\n",
              "      <td>Supermercado</td>\n",
              "      <td>Cancún</td>\n",
              "      <td>Rechazada</td>\n",
              "      <td>False</td>\n",
              "      <td>0.00</td>\n",
              "      <td>7.53</td>\n",
              "      <td>False</td>\n",
              "    </tr>\n",
              "    <tr>\n",
              "      <th>13649</th>\n",
              "      <td>13650</td>\n",
              "      <td>1939</td>\n",
              "      <td>M</td>\n",
              "      <td>43000</td>\n",
              "      <td>33</td>\n",
              "      <td>634.86</td>\n",
              "      <td>16/01/20</td>\n",
              "      <td>17</td>\n",
              "      <td>{'año': 2015, 'marca': 'Samsung', 'proveedor':...</td>\n",
              "      <td>NaN</td>\n",
              "      <td>Monterrey</td>\n",
              "      <td>Aceptada</td>\n",
              "      <td>False</td>\n",
              "      <td>31.74</td>\n",
              "      <td>19.05</td>\n",
              "      <td>False</td>\n",
              "    </tr>\n",
              "    <tr>\n",
              "      <th>13650</th>\n",
              "      <td>13651</td>\n",
              "      <td>1975</td>\n",
              "      <td>F</td>\n",
              "      <td>40000</td>\n",
              "      <td>54</td>\n",
              "      <td>362.82</td>\n",
              "      <td>16/01/20</td>\n",
              "      <td>17</td>\n",
              "      <td>{'año': 2014, 'marca': 'Samsung', 'proveedor':...</td>\n",
              "      <td>Farmacia</td>\n",
              "      <td>Monterrey</td>\n",
              "      <td>Aceptada</td>\n",
              "      <td>False</td>\n",
              "      <td>0.00</td>\n",
              "      <td>10.88</td>\n",
              "      <td>False</td>\n",
              "    </tr>\n",
              "    <tr>\n",
              "      <th>13651</th>\n",
              "      <td>13652</td>\n",
              "      <td>2078</td>\n",
              "      <td>M</td>\n",
              "      <td>40000</td>\n",
              "      <td>37</td>\n",
              "      <td>1089.15</td>\n",
              "      <td>16/01/20</td>\n",
              "      <td>17</td>\n",
              "      <td>{'año': 2020, 'marca': 'Samsung', 'proveedor':...</td>\n",
              "      <td>Farmacia</td>\n",
              "      <td>Monterrey</td>\n",
              "      <td>Aceptada</td>\n",
              "      <td>False</td>\n",
              "      <td>NaN</td>\n",
              "      <td>NaN</td>\n",
              "      <td>NaN</td>\n",
              "    </tr>\n",
              "  </tbody>\n",
              "</table>\n",
              "<p>13652 rows × 16 columns</p>\n",
              "</div>\n",
              "      <button class=\"colab-df-convert\" onclick=\"convertToInteractive('df-02be0d2e-01b1-4fc7-a225-8a8db3465994')\"\n",
              "              title=\"Convert this dataframe to an interactive table.\"\n",
              "              style=\"display:none;\">\n",
              "        \n",
              "  <svg xmlns=\"http://www.w3.org/2000/svg\" height=\"24px\"viewBox=\"0 0 24 24\"\n",
              "       width=\"24px\">\n",
              "    <path d=\"M0 0h24v24H0V0z\" fill=\"none\"/>\n",
              "    <path d=\"M18.56 5.44l.94 2.06.94-2.06 2.06-.94-2.06-.94-.94-2.06-.94 2.06-2.06.94zm-11 1L8.5 8.5l.94-2.06 2.06-.94-2.06-.94L8.5 2.5l-.94 2.06-2.06.94zm10 10l.94 2.06.94-2.06 2.06-.94-2.06-.94-.94-2.06-.94 2.06-2.06.94z\"/><path d=\"M17.41 7.96l-1.37-1.37c-.4-.4-.92-.59-1.43-.59-.52 0-1.04.2-1.43.59L10.3 9.45l-7.72 7.72c-.78.78-.78 2.05 0 2.83L4 21.41c.39.39.9.59 1.41.59.51 0 1.02-.2 1.41-.59l7.78-7.78 2.81-2.81c.8-.78.8-2.07 0-2.86zM5.41 20L4 18.59l7.72-7.72 1.47 1.35L5.41 20z\"/>\n",
              "  </svg>\n",
              "      </button>\n",
              "      \n",
              "  <style>\n",
              "    .colab-df-container {\n",
              "      display:flex;\n",
              "      flex-wrap:wrap;\n",
              "      gap: 12px;\n",
              "    }\n",
              "\n",
              "    .colab-df-convert {\n",
              "      background-color: #E8F0FE;\n",
              "      border: none;\n",
              "      border-radius: 50%;\n",
              "      cursor: pointer;\n",
              "      display: none;\n",
              "      fill: #1967D2;\n",
              "      height: 32px;\n",
              "      padding: 0 0 0 0;\n",
              "      width: 32px;\n",
              "    }\n",
              "\n",
              "    .colab-df-convert:hover {\n",
              "      background-color: #E2EBFA;\n",
              "      box-shadow: 0px 1px 2px rgba(60, 64, 67, 0.3), 0px 1px 3px 1px rgba(60, 64, 67, 0.15);\n",
              "      fill: #174EA6;\n",
              "    }\n",
              "\n",
              "    [theme=dark] .colab-df-convert {\n",
              "      background-color: #3B4455;\n",
              "      fill: #D2E3FC;\n",
              "    }\n",
              "\n",
              "    [theme=dark] .colab-df-convert:hover {\n",
              "      background-color: #434B5C;\n",
              "      box-shadow: 0px 1px 3px 1px rgba(0, 0, 0, 0.15);\n",
              "      filter: drop-shadow(0px 1px 2px rgba(0, 0, 0, 0.3));\n",
              "      fill: #FFFFFF;\n",
              "    }\n",
              "  </style>\n",
              "\n",
              "      <script>\n",
              "        const buttonEl =\n",
              "          document.querySelector('#df-02be0d2e-01b1-4fc7-a225-8a8db3465994 button.colab-df-convert');\n",
              "        buttonEl.style.display =\n",
              "          google.colab.kernel.accessAllowed ? 'block' : 'none';\n",
              "\n",
              "        async function convertToInteractive(key) {\n",
              "          const element = document.querySelector('#df-02be0d2e-01b1-4fc7-a225-8a8db3465994');\n",
              "          const dataTable =\n",
              "            await google.colab.kernel.invokeFunction('convertToInteractive',\n",
              "                                                     [key], {});\n",
              "          if (!dataTable) return;\n",
              "\n",
              "          const docLinkHtml = 'Like what you see? Visit the ' +\n",
              "            '<a target=\"_blank\" href=https://colab.research.google.com/notebooks/data_table.ipynb>data table notebook</a>'\n",
              "            + ' to learn more about interactive tables.';\n",
              "          element.innerHTML = '';\n",
              "          dataTable['output_type'] = 'display_data';\n",
              "          await google.colab.output.renderOutput(dataTable, element);\n",
              "          const docLink = document.createElement('div');\n",
              "          docLink.innerHTML = docLinkHtml;\n",
              "          element.appendChild(docLink);\n",
              "        }\n",
              "      </script>\n",
              "    </div>\n",
              "  </div>\n",
              "  "
            ]
          },
          "metadata": {},
          "execution_count": 33
        }
      ]
    },
    {
      "cell_type": "code",
      "source": [
        "rappi_df.fraude.sum()"
      ],
      "metadata": {
        "colab": {
          "base_uri": "https://localhost:8080/"
        },
        "id": "0jhCVMSzn1NX",
        "outputId": "890cd737-15b0-400c-d93c-36514291e453"
      },
      "execution_count": 34,
      "outputs": [
        {
          "output_type": "execute_result",
          "data": {
            "text/plain": [
              "406"
            ]
          },
          "metadata": {},
          "execution_count": 34
        }
      ]
    },
    {
      "cell_type": "markdown",
      "source": [
        "The main aim of the data is to identify clients that are predicted to credit card default based on the current data, according to the fraude column which is set to “False” for non-defaulters and “True” for defaulters. Thus, it is a binary classification problem on a relatively unbalanced dataset, as shown in the following figure."
      ],
      "metadata": {
        "id": "fZOArL7xNJL9"
      }
    },
    {
      "cell_type": "code",
      "source": [
        "sns.countplot(x='fraude', data=rappi_df)"
      ],
      "metadata": {
        "colab": {
          "base_uri": "https://localhost:8080/",
          "height": 297
        },
        "id": "RbIJlyn2Naui",
        "outputId": "5f79e1d3-e23f-4e8d-8d09-fcf31b703012"
      },
      "execution_count": 35,
      "outputs": [
        {
          "output_type": "execute_result",
          "data": {
            "text/plain": [
              "<matplotlib.axes._subplots.AxesSubplot at 0x7f5978ad7f10>"
            ]
          },
          "metadata": {},
          "execution_count": 35
        },
        {
          "output_type": "display_data",
          "data": {
            "text/plain": [
              "<Figure size 432x288 with 1 Axes>"
            ],
            "image/png": "[encoded data removed]"
          },
          "metadata": {
            "needs_background": "light"
          }
        }
      ]
    },
    {
      "cell_type": "markdown",
      "source": [
        "As can be seen, a number of 810 out of 26,975 (or 3.09%) of transactions are fraudulent (i.e. has category True). The data is highly unbalanced"
      ],
      "metadata": {
        "id": "2O_KTQz8Nqha"
      }
    },
    {
      "cell_type": "code",
      "source": [
        "fraud = rappi_df[rappi_df['fraude'] == 1]\n",
        "valid = rappi_df[rappi_df['fraude'] == 0]\n",
        "fraud_ratio = len(fraud) / len(valid) * 100\n",
        "print(f'{np.round(fraud_ratio,3)}%')\n",
        "print(f'Fraud Transactions: {len(fraud)}')\n",
        "print(f'Valid Transactions: {len(valid)}')"
      ],
      "metadata": {
        "colab": {
          "base_uri": "https://localhost:8080/"
        },
        "id": "2caQRD1rNzHW",
        "outputId": "442f5657-4770-4df2-c0e0-e97cd59fb2fb"
      },
      "execution_count": 36,
      "outputs": [
        {
          "output_type": "stream",
          "name": "stdout",
          "text": [
            "3.065%\n",
            "Fraud Transactions: 406\n",
            "Valid Transactions: 13245\n"
          ]
        }
      ]
    },
    {
      "cell_type": "code",
      "source": [
        "rappi_df.shape"
      ],
      "metadata": {
        "colab": {
          "base_uri": "https://localhost:8080/"
        },
        "id": "VCSEiLgN2irm",
        "outputId": "7a3f129a-1b08-43fe-be75-016961a9f1ac"
      },
      "execution_count": 37,
      "outputs": [
        {
          "output_type": "execute_result",
          "data": {
            "text/plain": [
              "(13652, 16)"
            ]
          },
          "metadata": {},
          "execution_count": 37
        }
      ]
    },
    {
      "cell_type": "code",
      "source": [
        "rappi_df.describe()"
      ],
      "metadata": {
        "colab": {
          "base_uri": "https://localhost:8080/",
          "height": 300
        },
        "id": "BeIFLpzk2mVK",
        "outputId": "25548c78-cdf1-4082-9aab-2a409b05c99f"
      },
      "execution_count": 38,
      "outputs": [
        {
          "output_type": "execute_result",
          "data": {
            "text/plain": [
              "       transaction_id       user_id      linea_tc    interes_tc         monto  \\\n",
              "count    13652.000000  13652.000000  13652.000000  13652.000000  13652.000000   \n",
              "mean      6826.500000   2005.473777  62488.353355     48.291972    514.035753   \n",
              "std       3941.137272   1144.721661  21847.586989      9.581761    292.623843   \n",
              "min          1.000000      0.000000  25000.000000     32.000000      1.000000   \n",
              "25%       3413.750000   1040.000000  44000.000000     40.000000    298.467500   \n",
              "50%       6826.500000   2006.000000  63000.000000     49.000000    504.620000   \n",
              "75%      10239.250000   2974.000000  82000.000000     57.000000    719.895000   \n",
              "max      13652.000000   3999.000000  99000.000000     64.000000   1712.700000   \n",
              "\n",
              "               hora          dcto      cashback  \n",
              "count  13652.000000  13651.000000  13651.000000  \n",
              "mean      12.492455      5.474570     16.974984  \n",
              "std        5.638463     12.455808     11.066168  \n",
              "min        0.000000      0.000000      0.030000  \n",
              "25%        9.000000      0.000000      9.450000  \n",
              "50%       13.000000      0.000000     15.910000  \n",
              "75%       17.000000      0.000000     22.950000  \n",
              "max       23.000000     85.640000    109.730000  "
            ],
            "text/html": [
              "\n",
              "  <div id=\"df-28dbc9a7-26b1-48c0-b6a1-6d60af087825\">\n",
              "    <div class=\"colab-df-container\">\n",
              "      <div>\n",
              "<style scoped>\n",
              "    .dataframe tbody tr th:only-of-type {\n",
              "        vertical-align: middle;\n",
              "    }\n",
              "\n",
              "    .dataframe tbody tr th {\n",
              "        vertical-align: top;\n",
              "    }\n",
              "\n",
              "    .dataframe thead th {\n",
              "        text-align: right;\n",
              "    }\n",
              "</style>\n",
              "<table border=\"1\" class=\"dataframe\">\n",
              "  <thead>\n",
              "    <tr style=\"text-align: right;\">\n",
              "      <th></th>\n",
              "      <th>transaction_id</th>\n",
              "      <th>user_id</th>\n",
              "      <th>linea_tc</th>\n",
              "      <th>interes_tc</th>\n",
              "      <th>monto</th>\n",
              "      <th>hora</th>\n",
              "      <th>dcto</th>\n",
              "      <th>cashback</th>\n",
              "    </tr>\n",
              "  </thead>\n",
              "  <tbody>\n",
              "    <tr>\n",
              "      <th>count</th>\n",
              "      <td>13652.000000</td>\n",
              "      <td>13652.000000</td>\n",
              "      <td>13652.000000</td>\n",
              "      <td>13652.000000</td>\n",
              "      <td>13652.000000</td>\n",
              "      <td>13652.000000</td>\n",
              "      <td>13651.000000</td>\n",
              "      <td>13651.000000</td>\n",
              "    </tr>\n",
              "    <tr>\n",
              "      <th>mean</th>\n",
              "      <td>6826.500000</td>\n",
              "      <td>2005.473777</td>\n",
              "      <td>62488.353355</td>\n",
              "      <td>48.291972</td>\n",
              "      <td>514.035753</td>\n",
              "      <td>12.492455</td>\n",
              "      <td>5.474570</td>\n",
              "      <td>16.974984</td>\n",
              "    </tr>\n",
              "    <tr>\n",
              "      <th>std</th>\n",
              "      <td>3941.137272</td>\n",
              "      <td>1144.721661</td>\n",
              "      <td>21847.586989</td>\n",
              "      <td>9.581761</td>\n",
              "      <td>292.623843</td>\n",
              "      <td>5.638463</td>\n",
              "      <td>12.455808</td>\n",
              "      <td>11.066168</td>\n",
              "    </tr>\n",
              "    <tr>\n",
              "      <th>min</th>\n",
              "      <td>1.000000</td>\n",
              "      <td>0.000000</td>\n",
              "      <td>25000.000000</td>\n",
              "      <td>32.000000</td>\n",
              "      <td>1.000000</td>\n",
              "      <td>0.000000</td>\n",
              "      <td>0.000000</td>\n",
              "      <td>0.030000</td>\n",
              "    </tr>\n",
              "    <tr>\n",
              "      <th>25%</th>\n",
              "      <td>3413.750000</td>\n",
              "      <td>1040.000000</td>\n",
              "      <td>44000.000000</td>\n",
              "      <td>40.000000</td>\n",
              "      <td>298.467500</td>\n",
              "      <td>9.000000</td>\n",
              "      <td>0.000000</td>\n",
              "      <td>9.450000</td>\n",
              "    </tr>\n",
              "    <tr>\n",
              "      <th>50%</th>\n",
              "      <td>6826.500000</td>\n",
              "      <td>2006.000000</td>\n",
              "      <td>63000.000000</td>\n",
              "      <td>49.000000</td>\n",
              "      <td>504.620000</td>\n",
              "      <td>13.000000</td>\n",
              "      <td>0.000000</td>\n",
              "      <td>15.910000</td>\n",
              "    </tr>\n",
              "    <tr>\n",
              "      <th>75%</th>\n",
              "      <td>10239.250000</td>\n",
              "      <td>2974.000000</td>\n",
              "      <td>82000.000000</td>\n",
              "      <td>57.000000</td>\n",
              "      <td>719.895000</td>\n",
              "      <td>17.000000</td>\n",
              "      <td>0.000000</td>\n",
              "      <td>22.950000</td>\n",
              "    </tr>\n",
              "    <tr>\n",
              "      <th>max</th>\n",
              "      <td>13652.000000</td>\n",
              "      <td>3999.000000</td>\n",
              "      <td>99000.000000</td>\n",
              "      <td>64.000000</td>\n",
              "      <td>1712.700000</td>\n",
              "      <td>23.000000</td>\n",
              "      <td>85.640000</td>\n",
              "      <td>109.730000</td>\n",
              "    </tr>\n",
              "  </tbody>\n",
              "</table>\n",
              "</div>\n",
              "      <button class=\"colab-df-convert\" onclick=\"convertToInteractive('df-28dbc9a7-26b1-48c0-b6a1-6d60af087825')\"\n",
              "              title=\"Convert this dataframe to an interactive table.\"\n",
              "              style=\"display:none;\">\n",
              "        \n",
              "  <svg xmlns=\"http://www.w3.org/2000/svg\" height=\"24px\"viewBox=\"0 0 24 24\"\n",
              "       width=\"24px\">\n",
              "    <path d=\"M0 0h24v24H0V0z\" fill=\"none\"/>\n",
              "    <path d=\"M18.56 5.44l.94 2.06.94-2.06 2.06-.94-2.06-.94-.94-2.06-.94 2.06-2.06.94zm-11 1L8.5 8.5l.94-2.06 2.06-.94-2.06-.94L8.5 2.5l-.94 2.06-2.06.94zm10 10l.94 2.06.94-2.06 2.06-.94-2.06-.94-.94-2.06-.94 2.06-2.06.94z\"/><path d=\"M17.41 7.96l-1.37-1.37c-.4-.4-.92-.59-1.43-.59-.52 0-1.04.2-1.43.59L10.3 9.45l-7.72 7.72c-.78.78-.78 2.05 0 2.83L4 21.41c.39.39.9.59 1.41.59.51 0 1.02-.2 1.41-.59l7.78-7.78 2.81-2.81c.8-.78.8-2.07 0-2.86zM5.41 20L4 18.59l7.72-7.72 1.47 1.35L5.41 20z\"/>\n",
              "  </svg>\n",
              "      </button>\n",
              "      \n",
              "  <style>\n",
              "    .colab-df-container {\n",
              "      display:flex;\n",
              "      flex-wrap:wrap;\n",
              "      gap: 12px;\n",
              "    }\n",
              "\n",
              "    .colab-df-convert {\n",
              "      background-color: #E8F0FE;\n",
              "      border: none;\n",
              "      border-radius: 50%;\n",
              "      cursor: pointer;\n",
              "      display: none;\n",
              "      fill: #1967D2;\n",
              "      height: 32px;\n",
              "      padding: 0 0 0 0;\n",
              "      width: 32px;\n",
              "    }\n",
              "\n",
              "    .colab-df-convert:hover {\n",
              "      background-color: #E2EBFA;\n",
              "      box-shadow: 0px 1px 2px rgba(60, 64, 67, 0.3), 0px 1px 3px 1px rgba(60, 64, 67, 0.15);\n",
              "      fill: #174EA6;\n",
              "    }\n",
              "\n",
              "    [theme=dark] .colab-df-convert {\n",
              "      background-color: #3B4455;\n",
              "      fill: #D2E3FC;\n",
              "    }\n",
              "\n",
              "    [theme=dark] .colab-df-convert:hover {\n",
              "      background-color: #434B5C;\n",
              "      box-shadow: 0px 1px 3px 1px rgba(0, 0, 0, 0.15);\n",
              "      filter: drop-shadow(0px 1px 2px rgba(0, 0, 0, 0.3));\n",
              "      fill: #FFFFFF;\n",
              "    }\n",
              "  </style>\n",
              "\n",
              "      <script>\n",
              "        const buttonEl =\n",
              "          document.querySelector('#df-28dbc9a7-26b1-48c0-b6a1-6d60af087825 button.colab-df-convert');\n",
              "        buttonEl.style.display =\n",
              "          google.colab.kernel.accessAllowed ? 'block' : 'none';\n",
              "\n",
              "        async function convertToInteractive(key) {\n",
              "          const element = document.querySelector('#df-28dbc9a7-26b1-48c0-b6a1-6d60af087825');\n",
              "          const dataTable =\n",
              "            await google.colab.kernel.invokeFunction('convertToInteractive',\n",
              "                                                     [key], {});\n",
              "          if (!dataTable) return;\n",
              "\n",
              "          const docLinkHtml = 'Like what you see? Visit the ' +\n",
              "            '<a target=\"_blank\" href=https://colab.research.google.com/notebooks/data_table.ipynb>data table notebook</a>'\n",
              "            + ' to learn more about interactive tables.';\n",
              "          element.innerHTML = '';\n",
              "          dataTable['output_type'] = 'display_data';\n",
              "          await google.colab.output.renderOutput(dataTable, element);\n",
              "          const docLink = document.createElement('div');\n",
              "          docLink.innerHTML = docLinkHtml;\n",
              "          element.appendChild(docLink);\n",
              "        }\n",
              "      </script>\n",
              "    </div>\n",
              "  </div>\n",
              "  "
            ]
          },
          "metadata": {},
          "execution_count": 38
        }
      ]
    },
    {
      "cell_type": "code",
      "source": [
        "rappi_df.fecha.unique()"
      ],
      "metadata": {
        "colab": {
          "base_uri": "https://localhost:8080/"
        },
        "id": "bMLKXGsB85jx",
        "outputId": "bacdabc3-3a17-4317-9946-e8bf30fde1ba"
      },
      "execution_count": 39,
      "outputs": [
        {
          "output_type": "execute_result",
          "data": {
            "text/plain": [
              "array(['02/01/20', '03/01/20', '04/01/20', '05/01/20', '06/01/20',\n",
              "       '07/01/20', '08/01/20', '09/01/20', '10/01/20', '11/01/20',\n",
              "       '12/01/20', '13/01/20', '14/01/20', '15/01/20', '16/01/20'],\n",
              "      dtype=object)"
            ]
          },
          "metadata": {},
          "execution_count": 39
        }
      ]
    },
    {
      "cell_type": "code",
      "source": [
        "rappi_df.info()"
      ],
      "metadata": {
        "colab": {
          "base_uri": "https://localhost:8080/"
        },
        "id": "vrgcR1b42kVz",
        "outputId": "d5e3b343-4abc-4664-f015-51bb799f8180"
      },
      "execution_count": 40,
      "outputs": [
        {
          "output_type": "stream",
          "name": "stdout",
          "text": [
            "<class 'pandas.core.frame.DataFrame'>\n",
            "RangeIndex: 13652 entries, 0 to 13651\n",
            "Data columns (total 16 columns):\n",
            " #   Column           Non-Null Count  Dtype  \n",
            "---  ------           --------------  -----  \n",
            " 0   transaction_id   13652 non-null  int64  \n",
            " 1   user_id          13652 non-null  int64  \n",
            " 2   género           13652 non-null  object \n",
            " 3   linea_tc         13652 non-null  int64  \n",
            " 4   interes_tc       13652 non-null  int64  \n",
            " 5   monto            13652 non-null  float64\n",
            " 6   fecha            13652 non-null  object \n",
            " 7   hora             13652 non-null  int64  \n",
            " 8   dispositivo      13652 non-null  object \n",
            " 9   establecimiento  12156 non-null  object \n",
            " 10  ciudad           13478 non-null  object \n",
            " 11  status_txn       13652 non-null  object \n",
            " 12  is_prime         13652 non-null  bool   \n",
            " 13  dcto             13651 non-null  float64\n",
            " 14  cashback         13651 non-null  float64\n",
            " 15  fraude           13651 non-null  object \n",
            "dtypes: bool(1), float64(3), int64(5), object(7)\n",
            "memory usage: 1.6+ MB\n"
          ]
        }
      ]
    },
    {
      "cell_type": "code",
      "source": [
        "rappi_df.interes_tc.min()"
      ],
      "metadata": {
        "colab": {
          "base_uri": "https://localhost:8080/"
        },
        "id": "Yir9v4nk_gZ0",
        "outputId": "27aab9cb-021a-43c9-cfae-676314502076"
      },
      "execution_count": 41,
      "outputs": [
        {
          "output_type": "execute_result",
          "data": {
            "text/plain": [
              "32"
            ]
          },
          "metadata": {},
          "execution_count": 41
        }
      ]
    },
    {
      "cell_type": "markdown",
      "source": [
        "The dataset used in this study consists of **26,975 observations** that represent distinct credit card transactions. Each observation has **16 attributes** that contain information on the transaction, demographic factors, credit data, of rappi credit card clients from various cities of Mexico from January 2nd 2020 to January 30th 2020.\n",
        "\n",
        "The information about the variables are:\n",
        "\n",
        "1. `transaction_id`: ID of each transaction, categorical variable\n",
        "2. `user_id`: ID of each client of the rappi credit card\n",
        "3. `género`: Gender, categorical variable (F=Female, M=Male, =)\n",
        "4. `linea_tc`: Amount of given credit on the card on MXN Pesos\n",
        "5. `interes_tc`: interest of the user credit card\n",
        "6. `monto`: Amount spend in that transaction MXN Pesos\n",
        "7. `fecha`: date of the transaction\n",
        "8. `hora`: hour of the day of the transaction\n",
        "9. `dispositivo`: dictionary type object that contains\n",
        "  - Year of release of the mobile\n",
        "  - Brand of the mobile device of the user\n",
        "  - Cellphone provider of the device\n",
        "10. `establecimiento`: Type of store where the transaction takes place\n",
        "11. `ciudad`: city of Mexico where the tx takes place\n",
        "12. `status_txn`: status of the transaction (approved, declined, on hold)\n",
        "13. `is_prime`: boolean value determining whether the customer belongs to the rappi prime program \n",
        "14. `dcto`: percentage of discount on the original amount of the transaction\n",
        "15. `cashback`: amount in MXN Pesos of cashback rappi gave to the user for that transaction\n",
        "\n",
        "The last variable is the one to be predicted\n",
        "16. `fraude`: indicates if the credit card user committed fraud on that transaction\n"
      ],
      "metadata": {
        "id": "F3CrWY6P8zDS"
      }
    },
    {
      "cell_type": "code",
      "source": [
        "for i in rappi_df.columns:\n",
        "  print(i)\n",
        "  if len(rappi_df[i].unique()) < 10:\n",
        "    print(f'Unique values of column {i}: {rappi_df[i].unique()}')\n",
        "  if rappi_df[i].dtype != 'object':\n",
        "    print(f'Min value of column {i}: {rappi_df[i].min()}')\n",
        "    print(f'Max value of column {i}: {rappi_df[i].max()}')\n",
        "  print('')"
      ],
      "metadata": {
        "colab": {
          "base_uri": "https://localhost:8080/"
        },
        "id": "NA8kLrKm2nis",
        "outputId": "b19308e5-5a26-4d6c-d77a-f0d8d92a0da1"
      },
      "execution_count": 42,
      "outputs": [
        {
          "output_type": "stream",
          "name": "stdout",
          "text": [
            "transaction_id\n",
            "Min value of column transaction_id: 1\n",
            "Max value of column transaction_id: 13652\n",
            "\n",
            "user_id\n",
            "Min value of column user_id: 0\n",
            "Max value of column user_id: 3999\n",
            "\n",
            "género\n",
            "Unique values of column género: ['M' 'F' 'N']\n",
            "\n",
            "linea_tc\n",
            "Min value of column linea_tc: 25000\n",
            "Max value of column linea_tc: 99000\n",
            "\n",
            "interes_tc\n",
            "Min value of column interes_tc: 32\n",
            "Max value of column interes_tc: 64\n",
            "\n",
            "monto\n",
            "Min value of column monto: 1.0\n",
            "Max value of column monto: 1712.7\n",
            "\n",
            "fecha\n",
            "\n",
            "hora\n",
            "Min value of column hora: 0\n",
            "Max value of column hora: 23\n",
            "\n",
            "dispositivo\n",
            "\n",
            "establecimiento\n",
            "Unique values of column establecimiento: ['Farmacia' 'Tienda departamental' 'Supermercado' nan 'Abarrotes'\n",
            " 'Compra en línea']\n",
            "\n",
            "ciudad\n",
            "Unique values of column ciudad: ['Ciudad de México' 'Cancún' 'Tijuana' 'Monterrey' 'Toluca' 'Guadalajara'\n",
            " 'Nezahualcóyotl' nan]\n",
            "\n",
            "status_txn\n",
            "Unique values of column status_txn: ['Aceptada' 'En proceso' 'Rechazada']\n",
            "\n",
            "is_prime\n",
            "Unique values of column is_prime: [False  True]\n",
            "Min value of column is_prime: False\n",
            "Max value of column is_prime: True\n",
            "\n",
            "dcto\n",
            "Min value of column dcto: 0.0\n",
            "Max value of column dcto: 85.64\n",
            "\n",
            "cashback\n",
            "Min value of column cashback: 0.03\n",
            "Max value of column cashback: 109.73\n",
            "\n",
            "fraude\n",
            "Unique values of column fraude: [False True nan]\n",
            "\n"
          ]
        }
      ]
    },
    {
      "cell_type": "code",
      "source": [
        "# Making a copy of the original dataframe so it can be manipulated\n",
        "device_values = rappi_df['dispositivo'].str.replace(\"'\", '\"').apply(json.loads).tolist()\n",
        "df_device = pd.DataFrame(device_values)\n",
        "\n",
        "df = pd.concat([rappi_df, df_device], axis=1)\n",
        "df = df.drop('dispositivo', axis=1)\n",
        "df = df.rename(columns={'género': 'genero', 'año': 'anio'})\n",
        "df.head()"
      ],
      "metadata": {
        "colab": {
          "base_uri": "https://localhost:8080/",
          "height": 302
        },
        "id": "OtTc10pp2tdB",
        "outputId": "49adb2f9-8b11-416d-d981-8ddde65c5ffd"
      },
      "execution_count": 48,
      "outputs": [
        {
          "output_type": "execute_result",
          "data": {
            "text/plain": [
              "   transaction_id  user_id genero  linea_tc  interes_tc   monto     fecha  \\\n",
              "0               1      573      M     87000          56  581.03  02/01/20   \n",
              "1               2      737      F     34000          51  421.73  02/01/20   \n",
              "2               3      887      F     52000          38  399.55  02/01/20   \n",
              "3               4     1304      M     67000          60  828.01  02/01/20   \n",
              "4               5     1361      F     28000          52  886.04  02/01/20   \n",
              "\n",
              "   hora       establecimiento            ciudad  status_txn  is_prime  dcto  \\\n",
              "0     0              Farmacia  Ciudad de México    Aceptada     False   0.0   \n",
              "1     0  Tienda departamental            Cancún    Aceptada     False   0.0   \n",
              "2     0              Farmacia           Tijuana  En proceso     False   0.0   \n",
              "3     0  Tienda departamental  Ciudad de México  En proceso     False   0.0   \n",
              "4     0          Supermercado            Cancún    Aceptada     False   0.0   \n",
              "\n",
              "   cashback fraude  anio    marca proveedor  \n",
              "0     17.43  False  2019    Apple    Telcel  \n",
              "1     12.65  False  2021   Huawei       ATT  \n",
              "2     11.99  False  2017    Apple       ATT  \n",
              "3     24.84  False  2019  Samsung       ATT  \n",
              "4     26.58  False  2021  Samsung    Telcel  "
            ],
            "text/html": [
              "\n",
              "  <div id=\"df-f4e5e60d-aaed-4334-b6dc-9beab68d201a\">\n",
              "    <div class=\"colab-df-container\">\n",
              "      <div>\n",
              "<style scoped>\n",
              "    .dataframe tbody tr th:only-of-type {\n",
              "        vertical-align: middle;\n",
              "    }\n",
              "\n",
              "    .dataframe tbody tr th {\n",
              "        vertical-align: top;\n",
              "    }\n",
              "\n",
              "    .dataframe thead th {\n",
              "        text-align: right;\n",
              "    }\n",
              "</style>\n",
              "<table border=\"1\" class=\"dataframe\">\n",
              "  <thead>\n",
              "    <tr style=\"text-align: right;\">\n",
              "      <th></th>\n",
              "      <th>transaction_id</th>\n",
              "      <th>user_id</th>\n",
              "      <th>genero</th>\n",
              "      <th>linea_tc</th>\n",
              "      <th>interes_tc</th>\n",
              "      <th>monto</th>\n",
              "      <th>fecha</th>\n",
              "      <th>hora</th>\n",
              "      <th>establecimiento</th>\n",
              "      <th>ciudad</th>\n",
              "      <th>status_txn</th>\n",
              "      <th>is_prime</th>\n",
              "      <th>dcto</th>\n",
              "      <th>cashback</th>\n",
              "      <th>fraude</th>\n",
              "      <th>anio</th>\n",
              "      <th>marca</th>\n",
              "      <th>proveedor</th>\n",
              "    </tr>\n",
              "  </thead>\n",
              "  <tbody>\n",
              "    <tr>\n",
              "      <th>0</th>\n",
              "      <td>1</td>\n",
              "      <td>573</td>\n",
              "      <td>M</td>\n",
              "      <td>87000</td>\n",
              "      <td>56</td>\n",
              "      <td>581.03</td>\n",
              "      <td>02/01/20</td>\n",
              "      <td>0</td>\n",
              "      <td>Farmacia</td>\n",
              "      <td>Ciudad de México</td>\n",
              "      <td>Aceptada</td>\n",
              "      <td>False</td>\n",
              "      <td>0.0</td>\n",
              "      <td>17.43</td>\n",
              "      <td>False</td>\n",
              "      <td>2019</td>\n",
              "      <td>Apple</td>\n",
              "      <td>Telcel</td>\n",
              "    </tr>\n",
              "    <tr>\n",
              "      <th>1</th>\n",
              "      <td>2</td>\n",
              "      <td>737</td>\n",
              "      <td>F</td>\n",
              "      <td>34000</td>\n",
              "      <td>51</td>\n",
              "      <td>421.73</td>\n",
              "      <td>02/01/20</td>\n",
              "      <td>0</td>\n",
              "      <td>Tienda departamental</td>\n",
              "      <td>Cancún</td>\n",
              "      <td>Aceptada</td>\n",
              "      <td>False</td>\n",
              "      <td>0.0</td>\n",
              "      <td>12.65</td>\n",
              "      <td>False</td>\n",
              "      <td>2021</td>\n",
              "      <td>Huawei</td>\n",
              "      <td>ATT</td>\n",
              "    </tr>\n",
              "    <tr>\n",
              "      <th>2</th>\n",
              "      <td>3</td>\n",
              "      <td>887</td>\n",
              "      <td>F</td>\n",
              "      <td>52000</td>\n",
              "      <td>38</td>\n",
              "      <td>399.55</td>\n",
              "      <td>02/01/20</td>\n",
              "      <td>0</td>\n",
              "      <td>Farmacia</td>\n",
              "      <td>Tijuana</td>\n",
              "      <td>En proceso</td>\n",
              "      <td>False</td>\n",
              "      <td>0.0</td>\n",
              "      <td>11.99</td>\n",
              "      <td>False</td>\n",
              "      <td>2017</td>\n",
              "      <td>Apple</td>\n",
              "      <td>ATT</td>\n",
              "    </tr>\n",
              "    <tr>\n",
              "      <th>3</th>\n",
              "      <td>4</td>\n",
              "      <td>1304</td>\n",
              "      <td>M</td>\n",
              "      <td>67000</td>\n",
              "      <td>60</td>\n",
              "      <td>828.01</td>\n",
              "      <td>02/01/20</td>\n",
              "      <td>0</td>\n",
              "      <td>Tienda departamental</td>\n",
              "      <td>Ciudad de México</td>\n",
              "      <td>En proceso</td>\n",
              "      <td>False</td>\n",
              "      <td>0.0</td>\n",
              "      <td>24.84</td>\n",
              "      <td>False</td>\n",
              "      <td>2019</td>\n",
              "      <td>Samsung</td>\n",
              "      <td>ATT</td>\n",
              "    </tr>\n",
              "    <tr>\n",
              "      <th>4</th>\n",
              "      <td>5</td>\n",
              "      <td>1361</td>\n",
              "      <td>F</td>\n",
              "      <td>28000</td>\n",
              "      <td>52</td>\n",
              "      <td>886.04</td>\n",
              "      <td>02/01/20</td>\n",
              "      <td>0</td>\n",
              "      <td>Supermercado</td>\n",
              "      <td>Cancún</td>\n",
              "      <td>Aceptada</td>\n",
              "      <td>False</td>\n",
              "      <td>0.0</td>\n",
              "      <td>26.58</td>\n",
              "      <td>False</td>\n",
              "      <td>2021</td>\n",
              "      <td>Samsung</td>\n",
              "      <td>Telcel</td>\n",
              "    </tr>\n",
              "  </tbody>\n",
              "</table>\n",
              "</div>\n",
              "      <button class=\"colab-df-convert\" onclick=\"convertToInteractive('df-f4e5e60d-aaed-4334-b6dc-9beab68d201a')\"\n",
              "              title=\"Convert this dataframe to an interactive table.\"\n",
              "              style=\"display:none;\">\n",
              "        \n",
              "  <svg xmlns=\"http://www.w3.org/2000/svg\" height=\"24px\"viewBox=\"0 0 24 24\"\n",
              "       width=\"24px\">\n",
              "    <path d=\"M0 0h24v24H0V0z\" fill=\"none\"/>\n",
              "    <path d=\"M18.56 5.44l.94 2.06.94-2.06 2.06-.94-2.06-.94-.94-2.06-.94 2.06-2.06.94zm-11 1L8.5 8.5l.94-2.06 2.06-.94-2.06-.94L8.5 2.5l-.94 2.06-2.06.94zm10 10l.94 2.06.94-2.06 2.06-.94-2.06-.94-.94-2.06-.94 2.06-2.06.94z\"/><path d=\"M17.41 7.96l-1.37-1.37c-.4-.4-.92-.59-1.43-.59-.52 0-1.04.2-1.43.59L10.3 9.45l-7.72 7.72c-.78.78-.78 2.05 0 2.83L4 21.41c.39.39.9.59 1.41.59.51 0 1.02-.2 1.41-.59l7.78-7.78 2.81-2.81c.8-.78.8-2.07 0-2.86zM5.41 20L4 18.59l7.72-7.72 1.47 1.35L5.41 20z\"/>\n",
              "  </svg>\n",
              "      </button>\n",
              "      \n",
              "  <style>\n",
              "    .colab-df-container {\n",
              "      display:flex;\n",
              "      flex-wrap:wrap;\n",
              "      gap: 12px;\n",
              "    }\n",
              "\n",
              "    .colab-df-convert {\n",
              "      background-color: #E8F0FE;\n",
              "      border: none;\n",
              "      border-radius: 50%;\n",
              "      cursor: pointer;\n",
              "      display: none;\n",
              "      fill: #1967D2;\n",
              "      height: 32px;\n",
              "      padding: 0 0 0 0;\n",
              "      width: 32px;\n",
              "    }\n",
              "\n",
              "    .colab-df-convert:hover {\n",
              "      background-color: #E2EBFA;\n",
              "      box-shadow: 0px 1px 2px rgba(60, 64, 67, 0.3), 0px 1px 3px 1px rgba(60, 64, 67, 0.15);\n",
              "      fill: #174EA6;\n",
              "    }\n",
              "\n",
              "    [theme=dark] .colab-df-convert {\n",
              "      background-color: #3B4455;\n",
              "      fill: #D2E3FC;\n",
              "    }\n",
              "\n",
              "    [theme=dark] .colab-df-convert:hover {\n",
              "      background-color: #434B5C;\n",
              "      box-shadow: 0px 1px 3px 1px rgba(0, 0, 0, 0.15);\n",
              "      filter: drop-shadow(0px 1px 2px rgba(0, 0, 0, 0.3));\n",
              "      fill: #FFFFFF;\n",
              "    }\n",
              "  </style>\n",
              "\n",
              "      <script>\n",
              "        const buttonEl =\n",
              "          document.querySelector('#df-f4e5e60d-aaed-4334-b6dc-9beab68d201a button.colab-df-convert');\n",
              "        buttonEl.style.display =\n",
              "          google.colab.kernel.accessAllowed ? 'block' : 'none';\n",
              "\n",
              "        async function convertToInteractive(key) {\n",
              "          const element = document.querySelector('#df-f4e5e60d-aaed-4334-b6dc-9beab68d201a');\n",
              "          const dataTable =\n",
              "            await google.colab.kernel.invokeFunction('convertToInteractive',\n",
              "                                                     [key], {});\n",
              "          if (!dataTable) return;\n",
              "\n",
              "          const docLinkHtml = 'Like what you see? Visit the ' +\n",
              "            '<a target=\"_blank\" href=https://colab.research.google.com/notebooks/data_table.ipynb>data table notebook</a>'\n",
              "            + ' to learn more about interactive tables.';\n",
              "          element.innerHTML = '';\n",
              "          dataTable['output_type'] = 'display_data';\n",
              "          await google.colab.output.renderOutput(dataTable, element);\n",
              "          const docLink = document.createElement('div');\n",
              "          docLink.innerHTML = docLinkHtml;\n",
              "          element.appendChild(docLink);\n",
              "        }\n",
              "      </script>\n",
              "    </div>\n",
              "  </div>\n",
              "  "
            ]
          },
          "metadata": {},
          "execution_count": 48
        }
      ]
    },
    {
      "cell_type": "code",
      "source": [
        "df2 = pd.concat(\n",
        "    [\n",
        "        df[df[\"fraude\"] == 0].sample(250, random_state=0),\n",
        "        df[df[\"fraude\"] == 1].sample(250, random_state=0),\n",
        "    ]\n",
        ")\n",
        "\n",
        "fig = px.histogram(\n",
        "    df2,\n",
        "    title=\"Transaction count for different amounts\",\n",
        "    x=\"monto\",\n",
        "    color=\"fraude\",\n",
        "    marginal=\"box\",\n",
        ")\n",
        "fig.update_traces(opacity=0.75)\n",
        "fig.update_layout(barmode=\"overlay\")\n",
        "fig.show()"
      ],
      "metadata": {
        "colab": {
          "base_uri": "https://localhost:8080/",
          "height": 542
        },
        "id": "j-W8oFKzriXZ",
        "outputId": "b8d32b43-cd10-40fd-a5e3-d89b5af638f9"
      },
      "execution_count": 50,
      "outputs": [
        {
          "output_type": "display_data",
          "data": {
            "text/html": [
              "<html>\n",
              "<head><meta charset=\"utf-8\" /></head>\n",
              "<body>\n",
              "    <div>            <script src=\"https://cdnjs.cloudflare.com/ajax/libs/mathjax/2.7.5/MathJax.js?config=TeX-AMS-MML_SVG\"></script><script type=\"text/javascript\">if (window.MathJax) {MathJax.Hub.Config({SVG: {font: \"STIX-Web\"}});}</script>                <script type=\"text/javascript\">window.PlotlyConfig = {MathJaxConfig: 'local'};</script>\n",
              "        <script src=\"https://cdn.plot.ly/plotly-2.8.3.min.js\"></script>                <div id=\"bdc1c261-2532-4e8f-8f5f-449fdcb8a9d0\" class=\"plotly-graph-div\" style=\"height:525px; width:100%;\"></div>            <script type=\"text/javascript\">                                    window.PLOTLYENV=window.PLOTLYENV || {};                                    if (document.getElementById(\"bdc1c261-2532-4e8f-8f5f-449fdcb8a9d0\")) {                    Plotly.newPlot(                        \"bdc1c261-2532-4e8f-8f5f-449fdcb8a9d0\",                        [{\"alignmentgroup\":\"True\",\"bingroup\":\"x\",\"hovertemplate\":\"fraude=False<br>monto=%{x}<br>count=%{y}<extra></extra>\",\"legendgroup\":\"False\",\"marker\":{\"color\":\"#636efa\",\"pattern\":{\"shape\":\"\"}},\"name\":\"False\",\"offsetgroup\":\"False\",\"orientation\":\"v\",\"showlegend\":true,\"x\":[454.58,126.01,597.44,314.54,551.85,632.47,43.65,665.36,128.24,394.45,801.74,633.04,428.68,328.08,681.68,1125.9,334.66,298.38,93.51,137.44,300.01,525.03,488.57,499.5,556.0,1292.6,515.54,443.8,146.02,917.74,398.63,564.24,386.52,525.67,778.96,1158.36,720.36,763.39,686.85,273.69,1007.15,593.25,723.34,70.12,914.95,587.18,786.75,295.29,51.63,555.88,640.39,1045.51,904.3,1037.47,632.41,378.35,501.79,1.0,483.54,438.86,791.9,72.51,464.05,344.93,418.03,451.05,715.21,1060.28,104.92,240.75,234.19,732.9,262.45,1134.51,285.98,308.89,810.21,545.94,261.56,419.24,641.48,1148.86,786.21,666.5,452.89,446.92,222.73,913.31,419.19,522.19,457.07,829.7,1.0,773.3,1.0,794.67,473.61,212.25,141.85,879.86,1469.96,604.54,798.54,717.48,1.0,701.82,321.69,256.23,316.06,397.19,396.81,613.6,855.42,791.6,410.01,606.53,398.39,461.18,412.61,867.96,277.36,461.71,204.68,114.47,26.84,394.3,648.09,355.57,392.56,213.47,942.61,310.78,162.3,466.51,75.22,194.9,1.0,449.74,410.28,1.0,193.19,530.64,583.02,818.44,506.85,878.49,139.13,487.76,387.04,928.25,1039.19,176.99,564.58,666.7,1234.12,877.01,842.64,720.82,336.35,1280.38,540.86,473.32,300.56,219.96,655.09,46.14,268.26,1.0,846.27,346.42,539.79,603.84,370.17,812.88,601.12,560.7,296.6,154.1,526.86,236.63,837.51,116.97,355.49,508.67,1100.65,369.3,32.47,875.6,292.36,573.04,508.96,761.07,443.6,710.21,1.0,234.1,935.49,691.1,782.25,614.43,416.61,328.16,376.09,511.5,322.43,1018.6,124.56,1.0,721.22,359.82,558.4,134.97,456.5,372.06,1.0,794.38,652.66,193.75,476.51,1008.88,256.62,1091.69,560.11,450.5,501.65,670.77,757.09,499.21,290.29,780.8,704.53,297.59,1138.24,515.46,655.43,561.02,231.99,71.68,875.3,402.32,767.07,479.75,89.48,349.26,1018.32,633.83,1110.72,432.24,118.96,215.55],\"xaxis\":\"x\",\"yaxis\":\"y\",\"type\":\"histogram\",\"opacity\":0.75},{\"alignmentgroup\":\"True\",\"hovertemplate\":\"fraude=False<br>monto=%{x}<extra></extra>\",\"legendgroup\":\"False\",\"marker\":{\"color\":\"#636efa\"},\"name\":\"False\",\"notched\":true,\"offsetgroup\":\"False\",\"showlegend\":false,\"x\":[454.58,126.01,597.44,314.54,551.85,632.47,43.65,665.36,128.24,394.45,801.74,633.04,428.68,328.08,681.68,1125.9,334.66,298.38,93.51,137.44,300.01,525.03,488.57,499.5,556.0,1292.6,515.54,443.8,146.02,917.74,398.63,564.24,386.52,525.67,778.96,1158.36,720.36,763.39,686.85,273.69,1007.15,593.25,723.34,70.12,914.95,587.18,786.75,295.29,51.63,555.88,640.39,1045.51,904.3,1037.47,632.41,378.35,501.79,1.0,483.54,438.86,791.9,72.51,464.05,344.93,418.03,451.05,715.21,1060.28,104.92,240.75,234.19,732.9,262.45,1134.51,285.98,308.89,810.21,545.94,261.56,419.24,641.48,1148.86,786.21,666.5,452.89,446.92,222.73,913.31,419.19,522.19,457.07,829.7,1.0,773.3,1.0,794.67,473.61,212.25,141.85,879.86,1469.96,604.54,798.54,717.48,1.0,701.82,321.69,256.23,316.06,397.19,396.81,613.6,855.42,791.6,410.01,606.53,398.39,461.18,412.61,867.96,277.36,461.71,204.68,114.47,26.84,394.3,648.09,355.57,392.56,213.47,942.61,310.78,162.3,466.51,75.22,194.9,1.0,449.74,410.28,1.0,193.19,530.64,583.02,818.44,506.85,878.49,139.13,487.76,387.04,928.25,1039.19,176.99,564.58,666.7,1234.12,877.01,842.64,720.82,336.35,1280.38,540.86,473.32,300.56,219.96,655.09,46.14,268.26,1.0,846.27,346.42,539.79,603.84,370.17,812.88,601.12,560.7,296.6,154.1,526.86,236.63,837.51,116.97,355.49,508.67,1100.65,369.3,32.47,875.6,292.36,573.04,508.96,761.07,443.6,710.21,1.0,234.1,935.49,691.1,782.25,614.43,416.61,328.16,376.09,511.5,322.43,1018.6,124.56,1.0,721.22,359.82,558.4,134.97,456.5,372.06,1.0,794.38,652.66,193.75,476.51,1008.88,256.62,1091.69,560.11,450.5,501.65,670.77,757.09,499.21,290.29,780.8,704.53,297.59,1138.24,515.46,655.43,561.02,231.99,71.68,875.3,402.32,767.07,479.75,89.48,349.26,1018.32,633.83,1110.72,432.24,118.96,215.55],\"xaxis\":\"x2\",\"yaxis\":\"y2\",\"type\":\"box\",\"opacity\":0.75},{\"alignmentgroup\":\"True\",\"bingroup\":\"x\",\"hovertemplate\":\"fraude=True<br>monto=%{x}<br>count=%{y}<extra></extra>\",\"legendgroup\":\"True\",\"marker\":{\"color\":\"#EF553B\",\"pattern\":{\"shape\":\"\"}},\"name\":\"True\",\"offsetgroup\":\"True\",\"orientation\":\"v\",\"showlegend\":true,\"x\":[202.62,715.07,720.96,259.95,916.18,860.79,1028.93,907.36,505.96,735.69,571.73,290.61,976.81,488.3,828.05,821.22,301.59,726.52,665.66,811.42,324.91,1008.76,713.0,373.64,728.11,189.89,444.1,541.75,819.3,732.49,739.05,41.47,317.24,831.41,843.77,1027.54,530.6,570.05,994.95,515.51,147.89,280.19,562.05,244.12,357.11,395.41,393.68,530.16,777.82,481.13,528.58,916.31,617.72,589.9,516.28,139.43,1014.83,1.0,883.08,693.68,558.64,339.84,613.13,44.79,1237.93,737.47,658.61,225.52,396.26,485.59,655.79,1028.92,785.06,251.84,570.11,31.86,411.07,572.5,626.7,674.59,626.27,256.98,735.19,794.26,840.5,832.23,503.56,757.03,437.78,102.62,743.31,751.81,572.33,422.59,520.53,471.28,530.48,839.11,319.9,692.37,135.93,220.99,422.8,768.79,1116.5,187.59,523.79,643.45,550.68,510.3,334.3,564.87,915.25,520.39,1301.97,1248.24,636.39,679.02,855.11,843.4,734.63,567.21,586.29,1148.35,75.24,886.04,714.83,993.49,436.9,1053.4,381.27,188.91,1053.0,107.23,497.71,1121.98,482.88,886.54,591.63,599.31,283.92,160.72,310.32,935.97,1157.32,128.22,381.89,426.24,661.71,857.81,1.0,394.01,1109.38,415.59,748.06,713.66,340.12,738.41,600.04,621.81,320.66,295.87,409.26,920.11,448.97,1.0,112.2,441.63,18.87,1065.85,854.7,560.2,558.51,949.63,1325.03,941.15,1186.96,275.61,336.43,498.52,802.77,734.6,647.45,341.94,230.72,438.23,461.53,327.21,1245.85,569.05,910.11,1408.96,1.0,116.09,155.43,386.26,384.51,768.69,642.12,644.01,716.0,62.81,67.34,446.17,554.33,727.52,1161.83,307.82,384.69,733.36,13.17,265.6,502.35,1567.54,655.69,648.37,1.0,138.33,427.94,768.32,689.75,920.66,300.27,304.73,135.33,353.43,476.1,1.0,467.95,1.0,538.64,57.47,810.4,1381.6,695.47,904.67,596.32,184.66,805.87,621.37,716.52,775.23,107.9,307.41,721.69,275.55,324.32,369.58,339.1,789.85],\"xaxis\":\"x\",\"yaxis\":\"y\",\"type\":\"histogram\",\"opacity\":0.75},{\"alignmentgroup\":\"True\",\"hovertemplate\":\"fraude=True<br>monto=%{x}<extra></extra>\",\"legendgroup\":\"True\",\"marker\":{\"color\":\"#EF553B\"},\"name\":\"True\",\"notched\":true,\"offsetgroup\":\"True\",\"showlegend\":false,\"x\":[202.62,715.07,720.96,259.95,916.18,860.79,1028.93,907.36,505.96,735.69,571.73,290.61,976.81,488.3,828.05,821.22,301.59,726.52,665.66,811.42,324.91,1008.76,713.0,373.64,728.11,189.89,444.1,541.75,819.3,732.49,739.05,41.47,317.24,831.41,843.77,1027.54,530.6,570.05,994.95,515.51,147.89,280.19,562.05,244.12,357.11,395.41,393.68,530.16,777.82,481.13,528.58,916.31,617.72,589.9,516.28,139.43,1014.83,1.0,883.08,693.68,558.64,339.84,613.13,44.79,1237.93,737.47,658.61,225.52,396.26,485.59,655.79,1028.92,785.06,251.84,570.11,31.86,411.07,572.5,626.7,674.59,626.27,256.98,735.19,794.26,840.5,832.23,503.56,757.03,437.78,102.62,743.31,751.81,572.33,422.59,520.53,471.28,530.48,839.11,319.9,692.37,135.93,220.99,422.8,768.79,1116.5,187.59,523.79,643.45,550.68,510.3,334.3,564.87,915.25,520.39,1301.97,1248.24,636.39,679.02,855.11,843.4,734.63,567.21,586.29,1148.35,75.24,886.04,714.83,993.49,436.9,1053.4,381.27,188.91,1053.0,107.23,497.71,1121.98,482.88,886.54,591.63,599.31,283.92,160.72,310.32,935.97,1157.32,128.22,381.89,426.24,661.71,857.81,1.0,394.01,1109.38,415.59,748.06,713.66,340.12,738.41,600.04,621.81,320.66,295.87,409.26,920.11,448.97,1.0,112.2,441.63,18.87,1065.85,854.7,560.2,558.51,949.63,1325.03,941.15,1186.96,275.61,336.43,498.52,802.77,734.6,647.45,341.94,230.72,438.23,461.53,327.21,1245.85,569.05,910.11,1408.96,1.0,116.09,155.43,386.26,384.51,768.69,642.12,644.01,716.0,62.81,67.34,446.17,554.33,727.52,1161.83,307.82,384.69,733.36,13.17,265.6,502.35,1567.54,655.69,648.37,1.0,138.33,427.94,768.32,689.75,920.66,300.27,304.73,135.33,353.43,476.1,1.0,467.95,1.0,538.64,57.47,810.4,1381.6,695.47,904.67,596.32,184.66,805.87,621.37,716.52,775.23,107.9,307.41,721.69,275.55,324.32,369.58,339.1,789.85],\"xaxis\":\"x2\",\"yaxis\":\"y2\",\"type\":\"box\",\"opacity\":0.75}],                        {\"template\":{\"data\":{\"bar\":[{\"error_x\":{\"color\":\"#2a3f5f\"},\"error_y\":{\"color\":\"#2a3f5f\"},\"marker\":{\"line\":{\"color\":\"#E5ECF6\",\"width\":0.5},\"pattern\":{\"fillmode\":\"overlay\",\"size\":10,\"solidity\":0.2}},\"type\":\"bar\"}],\"barpolar\":[{\"marker\":{\"line\":{\"color\":\"#E5ECF6\",\"width\":0.5},\"pattern\":{\"fillmode\":\"overlay\",\"size\":10,\"solidity\":0.2}},\"type\":\"barpolar\"}],\"carpet\":[{\"aaxis\":{\"endlinecolor\":\"#2a3f5f\",\"gridcolor\":\"white\",\"linecolor\":\"white\",\"minorgridcolor\":\"white\",\"startlinecolor\":\"#2a3f5f\"},\"baxis\":{\"endlinecolor\":\"#2a3f5f\",\"gridcolor\":\"white\",\"linecolor\":\"white\",\"minorgridcolor\":\"white\",\"startlinecolor\":\"#2a3f5f\"},\"type\":\"carpet\"}],\"choropleth\":[{\"colorbar\":{\"outlinewidth\":0,\"ticks\":\"\"},\"type\":\"choropleth\"}],\"contour\":[{\"colorbar\":{\"outlinewidth\":0,\"ticks\":\"\"},\"colorscale\":[[0.0,\"#0d0887\"],[0.1111111111111111,\"#46039f\"],[0.2222222222222222,\"#7201a8\"],[0.3333333333333333,\"#9c179e\"],[0.4444444444444444,\"#bd3786\"],[0.5555555555555556,\"#d8576b\"],[0.6666666666666666,\"#ed7953\"],[0.7777777777777778,\"#fb9f3a\"],[0.8888888888888888,\"#fdca26\"],[1.0,\"#f0f921\"]],\"type\":\"contour\"}],\"contourcarpet\":[{\"colorbar\":{\"outlinewidth\":0,\"ticks\":\"\"},\"type\":\"contourcarpet\"}],\"heatmap\":[{\"colorbar\":{\"outlinewidth\":0,\"ticks\":\"\"},\"colorscale\":[[0.0,\"#0d0887\"],[0.1111111111111111,\"#46039f\"],[0.2222222222222222,\"#7201a8\"],[0.3333333333333333,\"#9c179e\"],[0.4444444444444444,\"#bd3786\"],[0.5555555555555556,\"#d8576b\"],[0.6666666666666666,\"#ed7953\"],[0.7777777777777778,\"#fb9f3a\"],[0.8888888888888888,\"#fdca26\"],[1.0,\"#f0f921\"]],\"type\":\"heatmap\"}],\"heatmapgl\":[{\"colorbar\":{\"outlinewidth\":0,\"ticks\":\"\"},\"colorscale\":[[0.0,\"#0d0887\"],[0.1111111111111111,\"#46039f\"],[0.2222222222222222,\"#7201a8\"],[0.3333333333333333,\"#9c179e\"],[0.4444444444444444,\"#bd3786\"],[0.5555555555555556,\"#d8576b\"],[0.6666666666666666,\"#ed7953\"],[0.7777777777777778,\"#fb9f3a\"],[0.8888888888888888,\"#fdca26\"],[1.0,\"#f0f921\"]],\"type\":\"heatmapgl\"}],\"histogram\":[{\"marker\":{\"pattern\":{\"fillmode\":\"overlay\",\"size\":10,\"solidity\":0.2}},\"type\":\"histogram\"}],\"histogram2d\":[{\"colorbar\":{\"outlinewidth\":0,\"ticks\":\"\"},\"colorscale\":[[0.0,\"#0d0887\"],[0.1111111111111111,\"#46039f\"],[0.2222222222222222,\"#7201a8\"],[0.3333333333333333,\"#9c179e\"],[0.4444444444444444,\"#bd3786\"],[0.5555555555555556,\"#d8576b\"],[0.6666666666666666,\"#ed7953\"],[0.7777777777777778,\"#fb9f3a\"],[0.8888888888888888,\"#fdca26\"],[1.0,\"#f0f921\"]],\"type\":\"histogram2d\"}],\"histogram2dcontour\":[{\"colorbar\":{\"outlinewidth\":0,\"ticks\":\"\"},\"colorscale\":[[0.0,\"#0d0887\"],[0.1111111111111111,\"#46039f\"],[0.2222222222222222,\"#7201a8\"],[0.3333333333333333,\"#9c179e\"],[0.4444444444444444,\"#bd3786\"],[0.5555555555555556,\"#d8576b\"],[0.6666666666666666,\"#ed7953\"],[0.7777777777777778,\"#fb9f3a\"],[0.8888888888888888,\"#fdca26\"],[1.0,\"#f0f921\"]],\"type\":\"histogram2dcontour\"}],\"mesh3d\":[{\"colorbar\":{\"outlinewidth\":0,\"ticks\":\"\"},\"type\":\"mesh3d\"}],\"parcoords\":[{\"line\":{\"colorbar\":{\"outlinewidth\":0,\"ticks\":\"\"}},\"type\":\"parcoords\"}],\"pie\":[{\"automargin\":true,\"type\":\"pie\"}],\"scatter\":[{\"marker\":{\"colorbar\":{\"outlinewidth\":0,\"ticks\":\"\"}},\"type\":\"scatter\"}],\"scatter3d\":[{\"line\":{\"colorbar\":{\"outlinewidth\":0,\"ticks\":\"\"}},\"marker\":{\"colorbar\":{\"outlinewidth\":0,\"ticks\":\"\"}},\"type\":\"scatter3d\"}],\"scattercarpet\":[{\"marker\":{\"colorbar\":{\"outlinewidth\":0,\"ticks\":\"\"}},\"type\":\"scattercarpet\"}],\"scattergeo\":[{\"marker\":{\"colorbar\":{\"outlinewidth\":0,\"ticks\":\"\"}},\"type\":\"scattergeo\"}],\"scattergl\":[{\"marker\":{\"colorbar\":{\"outlinewidth\":0,\"ticks\":\"\"}},\"type\":\"scattergl\"}],\"scattermapbox\":[{\"marker\":{\"colorbar\":{\"outlinewidth\":0,\"ticks\":\"\"}},\"type\":\"scattermapbox\"}],\"scatterpolar\":[{\"marker\":{\"colorbar\":{\"outlinewidth\":0,\"ticks\":\"\"}},\"type\":\"scatterpolar\"}],\"scatterpolargl\":[{\"marker\":{\"colorbar\":{\"outlinewidth\":0,\"ticks\":\"\"}},\"type\":\"scatterpolargl\"}],\"scatterternary\":[{\"marker\":{\"colorbar\":{\"outlinewidth\":0,\"ticks\":\"\"}},\"type\":\"scatterternary\"}],\"surface\":[{\"colorbar\":{\"outlinewidth\":0,\"ticks\":\"\"},\"colorscale\":[[0.0,\"#0d0887\"],[0.1111111111111111,\"#46039f\"],[0.2222222222222222,\"#7201a8\"],[0.3333333333333333,\"#9c179e\"],[0.4444444444444444,\"#bd3786\"],[0.5555555555555556,\"#d8576b\"],[0.6666666666666666,\"#ed7953\"],[0.7777777777777778,\"#fb9f3a\"],[0.8888888888888888,\"#fdca26\"],[1.0,\"#f0f921\"]],\"type\":\"surface\"}],\"table\":[{\"cells\":{\"fill\":{\"color\":\"#EBF0F8\"},\"line\":{\"color\":\"white\"}},\"header\":{\"fill\":{\"color\":\"#C8D4E3\"},\"line\":{\"color\":\"white\"}},\"type\":\"table\"}]},\"layout\":{\"annotationdefaults\":{\"arrowcolor\":\"#2a3f5f\",\"arrowhead\":0,\"arrowwidth\":1},\"autotypenumbers\":\"strict\",\"coloraxis\":{\"colorbar\":{\"outlinewidth\":0,\"ticks\":\"\"}},\"colorscale\":{\"diverging\":[[0,\"#8e0152\"],[0.1,\"#c51b7d\"],[0.2,\"#de77ae\"],[0.3,\"#f1b6da\"],[0.4,\"#fde0ef\"],[0.5,\"#f7f7f7\"],[0.6,\"#e6f5d0\"],[0.7,\"#b8e186\"],[0.8,\"#7fbc41\"],[0.9,\"#4d9221\"],[1,\"#276419\"]],\"sequential\":[[0.0,\"#0d0887\"],[0.1111111111111111,\"#46039f\"],[0.2222222222222222,\"#7201a8\"],[0.3333333333333333,\"#9c179e\"],[0.4444444444444444,\"#bd3786\"],[0.5555555555555556,\"#d8576b\"],[0.6666666666666666,\"#ed7953\"],[0.7777777777777778,\"#fb9f3a\"],[0.8888888888888888,\"#fdca26\"],[1.0,\"#f0f921\"]],\"sequentialminus\":[[0.0,\"#0d0887\"],[0.1111111111111111,\"#46039f\"],[0.2222222222222222,\"#7201a8\"],[0.3333333333333333,\"#9c179e\"],[0.4444444444444444,\"#bd3786\"],[0.5555555555555556,\"#d8576b\"],[0.6666666666666666,\"#ed7953\"],[0.7777777777777778,\"#fb9f3a\"],[0.8888888888888888,\"#fdca26\"],[1.0,\"#f0f921\"]]},\"colorway\":[\"#636efa\",\"#EF553B\",\"#00cc96\",\"#ab63fa\",\"#FFA15A\",\"#19d3f3\",\"#FF6692\",\"#B6E880\",\"#FF97FF\",\"#FECB52\"],\"font\":{\"color\":\"#2a3f5f\"},\"geo\":{\"bgcolor\":\"white\",\"lakecolor\":\"white\",\"landcolor\":\"#E5ECF6\",\"showlakes\":true,\"showland\":true,\"subunitcolor\":\"white\"},\"hoverlabel\":{\"align\":\"left\"},\"hovermode\":\"closest\",\"mapbox\":{\"style\":\"light\"},\"paper_bgcolor\":\"white\",\"plot_bgcolor\":\"#E5ECF6\",\"polar\":{\"angularaxis\":{\"gridcolor\":\"white\",\"linecolor\":\"white\",\"ticks\":\"\"},\"bgcolor\":\"#E5ECF6\",\"radialaxis\":{\"gridcolor\":\"white\",\"linecolor\":\"white\",\"ticks\":\"\"}},\"scene\":{\"xaxis\":{\"backgroundcolor\":\"#E5ECF6\",\"gridcolor\":\"white\",\"gridwidth\":2,\"linecolor\":\"white\",\"showbackground\":true,\"ticks\":\"\",\"zerolinecolor\":\"white\"},\"yaxis\":{\"backgroundcolor\":\"#E5ECF6\",\"gridcolor\":\"white\",\"gridwidth\":2,\"linecolor\":\"white\",\"showbackground\":true,\"ticks\":\"\",\"zerolinecolor\":\"white\"},\"zaxis\":{\"backgroundcolor\":\"#E5ECF6\",\"gridcolor\":\"white\",\"gridwidth\":2,\"linecolor\":\"white\",\"showbackground\":true,\"ticks\":\"\",\"zerolinecolor\":\"white\"}},\"shapedefaults\":{\"line\":{\"color\":\"#2a3f5f\"}},\"ternary\":{\"aaxis\":{\"gridcolor\":\"white\",\"linecolor\":\"white\",\"ticks\":\"\"},\"baxis\":{\"gridcolor\":\"white\",\"linecolor\":\"white\",\"ticks\":\"\"},\"bgcolor\":\"#E5ECF6\",\"caxis\":{\"gridcolor\":\"white\",\"linecolor\":\"white\",\"ticks\":\"\"}},\"title\":{\"x\":0.05},\"xaxis\":{\"automargin\":true,\"gridcolor\":\"white\",\"linecolor\":\"white\",\"ticks\":\"\",\"title\":{\"standoff\":15},\"zerolinecolor\":\"white\",\"zerolinewidth\":2},\"yaxis\":{\"automargin\":true,\"gridcolor\":\"white\",\"linecolor\":\"white\",\"ticks\":\"\",\"title\":{\"standoff\":15},\"zerolinecolor\":\"white\",\"zerolinewidth\":2}}},\"xaxis\":{\"anchor\":\"y\",\"domain\":[0.0,1.0],\"title\":{\"text\":\"monto\"}},\"yaxis\":{\"anchor\":\"x\",\"domain\":[0.0,0.7326],\"title\":{\"text\":\"count\"}},\"xaxis2\":{\"anchor\":\"y2\",\"domain\":[0.0,1.0],\"matches\":\"x\",\"showticklabels\":false,\"showgrid\":true},\"yaxis2\":{\"anchor\":\"x2\",\"domain\":[0.7426,1.0],\"matches\":\"y2\",\"showticklabels\":false,\"showline\":false,\"ticks\":\"\",\"showgrid\":false},\"legend\":{\"title\":{\"text\":\"fraude\"},\"tracegroupgap\":0},\"title\":{\"text\":\"Transaction count for different amounts\"},\"barmode\":\"overlay\"},                        {\"responsive\": true}                    ).then(function(){\n",
              "                            \n",
              "var gd = document.getElementById('bdc1c261-2532-4e8f-8f5f-449fdcb8a9d0');\n",
              "var x = new MutationObserver(function (mutations, observer) {{\n",
              "        var display = window.getComputedStyle(gd).display;\n",
              "        if (!display || display === 'none') {{\n",
              "            console.log([gd, 'removed!']);\n",
              "            Plotly.purge(gd);\n",
              "            observer.disconnect();\n",
              "        }}\n",
              "}});\n",
              "\n",
              "// Listen for the removal of the full notebook cells\n",
              "var notebookContainer = gd.closest('#notebook-container');\n",
              "if (notebookContainer) {{\n",
              "    x.observe(notebookContainer, {childList: true});\n",
              "}}\n",
              "\n",
              "// Listen for the clearing of the current output cell\n",
              "var outputEl = gd.closest('.output');\n",
              "if (outputEl) {{\n",
              "    x.observe(outputEl, {childList: true});\n",
              "}}\n",
              "\n",
              "                        })                };                            </script>        </div>\n",
              "</body>\n",
              "</html>"
            ]
          },
          "metadata": {}
        }
      ]
    },
    {
      "cell_type": "markdown",
      "source": [
        "#### Dealing with null values"
      ],
      "metadata": {
        "id": "LeabDCA9DrZd"
      }
    },
    {
      "cell_type": "code",
      "source": [
        "df.isnull().sum()"
      ],
      "metadata": {
        "colab": {
          "base_uri": "https://localhost:8080/"
        },
        "id": "vHgkxcPmC_79",
        "outputId": "bb7f62dc-06ae-4b5a-fdfa-63a24669aa5a"
      },
      "execution_count": 10,
      "outputs": [
        {
          "output_type": "execute_result",
          "data": {
            "text/plain": [
              "transaction_id        0\n",
              "user_id               0\n",
              "genero                0\n",
              "linea_tc              0\n",
              "interes_tc            0\n",
              "monto                 0\n",
              "fecha                 0\n",
              "hora                  0\n",
              "establecimiento    2939\n",
              "ciudad              334\n",
              "status_txn            0\n",
              "is_prime              0\n",
              "dcto                  0\n",
              "cashback              0\n",
              "fraude                0\n",
              "anio                  0\n",
              "marca                 0\n",
              "proveedor             0\n",
              "dtype: int64"
            ]
          },
          "metadata": {},
          "execution_count": 10
        }
      ]
    },
    {
      "cell_type": "markdown",
      "source": [
        "We can see we have 2,939 null values in establecimiento variable and 334 null values in ciudad variable. \n",
        "\n",
        "**Around 10.89% of all the datapoints have null values in establecimiento, and around 1.23% of all datapoints have null values in city**"
      ],
      "metadata": {
        "id": "p-XhVTrBDHro"
      }
    },
    {
      "cell_type": "code",
      "source": [
        "len(df[(df['establecimiento'].isnull()) & (df['fraude']==1)])"
      ],
      "metadata": {
        "colab": {
          "base_uri": "https://localhost:8080/"
        },
        "id": "TXLV10LPHmx2",
        "outputId": "1e039095-6b10-4c8b-adb1-244c92160353"
      },
      "execution_count": null,
      "outputs": [
        {
          "output_type": "execute_result",
          "data": {
            "text/plain": [
              "53"
            ]
          },
          "metadata": {},
          "execution_count": 76
        }
      ]
    },
    {
      "cell_type": "code",
      "source": [
        "len(df[(df['ciudad'].isnull()) & (df['fraude']==1)])"
      ],
      "metadata": {
        "colab": {
          "base_uri": "https://localhost:8080/"
        },
        "id": "kQEFjrZYHuiu",
        "outputId": "0d443ac7-d6ff-4bfb-f901-e89905a40472"
      },
      "execution_count": null,
      "outputs": [
        {
          "output_type": "execute_result",
          "data": {
            "text/plain": [
              "6"
            ]
          },
          "metadata": {},
          "execution_count": 77
        }
      ]
    },
    {
      "cell_type": "markdown",
      "source": [
        "Out of the 2,939 datapoints that have establecimiento variable null, only 53 of the transactions are fraudulent, as well as of the 334 entries that have city as null value only 6 transactions are fraudulent, a mere 1.80% and 1.79% respectively.\n",
        "I made the decision to eliminate the entries with city with null values due to their small size however I do not consider that I can do the same with the entries that have establishment with null values as they are too much data, about 11% of the total data. So i replace the null values with a new category called 'unknown'."
      ],
      "metadata": {
        "id": "uXFIH8jrIJxS"
      }
    },
    {
      "cell_type": "code",
      "source": [
        "df = df[df['ciudad'].notna()]"
      ],
      "metadata": {
        "id": "tlZ4TU60Hcnx"
      },
      "execution_count": null,
      "outputs": []
    },
    {
      "cell_type": "code",
      "source": [
        "df = df.fillna('Unknown')"
      ],
      "metadata": {
        "id": "OZfE3qFUL7qh"
      },
      "execution_count": null,
      "outputs": []
    },
    {
      "cell_type": "code",
      "source": [
        "df.isnull().sum()"
      ],
      "metadata": {
        "colab": {
          "base_uri": "https://localhost:8080/"
        },
        "id": "2Gar-fdeHclh",
        "outputId": "74e901bd-167f-445c-deb3-d88e0f830463"
      },
      "execution_count": null,
      "outputs": [
        {
          "output_type": "execute_result",
          "data": {
            "text/plain": [
              "transaction_id     0\n",
              "user_id            0\n",
              "genero             0\n",
              "linea_tc           0\n",
              "interes_tc         0\n",
              "monto              0\n",
              "fecha              0\n",
              "hora               0\n",
              "establecimiento    0\n",
              "ciudad             0\n",
              "status_txn         0\n",
              "is_prime           0\n",
              "dcto               0\n",
              "cashback           0\n",
              "fraude             0\n",
              "anio               0\n",
              "marca              0\n",
              "proveedor          0\n",
              "dtype: int64"
            ]
          },
          "metadata": {},
          "execution_count": 80
        }
      ]
    },
    {
      "cell_type": "markdown",
      "source": [
        "#### Descriptive Statistics"
      ],
      "metadata": {
        "id": "8NoUMft-MdJ1"
      }
    },
    {
      "cell_type": "code",
      "source": [
        "fraud = df[df['fraude'] == 1]\n",
        "valid = df[df['fraude'] == 0]\n",
        "fraud_ratio = len(fraud) / len(valid) * 100\n",
        "print(f'{np.round(fraud_ratio,2)}%')\n",
        "print(f'Fraud Transactions: {len(fraud)}')\n",
        "print(f'Valid Transactions: {len(valid)}')"
      ],
      "metadata": {
        "colab": {
          "base_uri": "https://localhost:8080/"
        },
        "id": "N3IYKc_THcjY",
        "outputId": "3a14aa9d-71ab-44ce-8df0-d7ffd9bdfac2"
      },
      "execution_count": null,
      "outputs": [
        {
          "output_type": "stream",
          "name": "stdout",
          "text": [
            "3.11%\n",
            "Fraud Transactions: 804\n",
            "Valid Transactions: 25837\n"
          ]
        }
      ]
    },
    {
      "cell_type": "code",
      "source": [
        "print('Amount details of the fraudulent transactions')\n",
        "fraud['monto'].describe()"
      ],
      "metadata": {
        "colab": {
          "base_uri": "https://localhost:8080/"
        },
        "id": "k5R9Ad0kHcdp",
        "outputId": "fbec4614-a884-46d6-ce0a-cd3bb4644808"
      },
      "execution_count": null,
      "outputs": [
        {
          "output_type": "stream",
          "name": "stdout",
          "text": [
            "Amount details of the fraudulent transactions\n"
          ]
        },
        {
          "output_type": "execute_result",
          "data": {
            "text/plain": [
              "count     804.000000\n",
              "mean      580.712649\n",
              "std       318.876454\n",
              "min         1.000000\n",
              "25%       341.125000\n",
              "50%       576.825000\n",
              "75%       795.412500\n",
              "max      1625.160000\n",
              "Name: monto, dtype: float64"
            ]
          },
          "metadata": {},
          "execution_count": 85
        }
      ]
    },
    {
      "cell_type": "code",
      "source": [
        "print('Amount details of the valid transactions')\n",
        "valid['monto'].describe()"
      ],
      "metadata": {
        "colab": {
          "base_uri": "https://localhost:8080/"
        },
        "id": "qjE8tRwHHcbe",
        "outputId": "f75928aa-6c96-45dd-f76e-bea213f7f59c"
      },
      "execution_count": null,
      "outputs": [
        {
          "output_type": "stream",
          "name": "stdout",
          "text": [
            "Amount details of the valid transactions\n"
          ]
        },
        {
          "output_type": "execute_result",
          "data": {
            "text/plain": [
              "count    25837.000000\n",
              "mean       511.967498\n",
              "std        289.339520\n",
              "min          1.000000\n",
              "25%        299.290000\n",
              "50%        504.380000\n",
              "75%        714.190000\n",
              "max       1712.700000\n",
              "Name: monto, dtype: float64"
            ]
          },
          "metadata": {},
          "execution_count": 86
        }
      ]
    },
    {
      "cell_type": "markdown",
      "source": [
        "I created another dataframe with only the fraudulent transactions"
      ],
      "metadata": {
        "id": "KhH8pRViPdpO"
      }
    },
    {
      "cell_type": "code",
      "source": [
        "df_fraude = rappi_df.loc[rappi_df[\"fraude\"]==1]"
      ],
      "metadata": {
        "id": "TmkQIOAFHcYs"
      },
      "execution_count": null,
      "outputs": []
    },
    {
      "cell_type": "code",
      "source": [
        "df_fraude['status_txn'].value_counts()"
      ],
      "metadata": {
        "colab": {
          "base_uri": "https://localhost:8080/"
        },
        "id": "QmBAhqJFDol1",
        "outputId": "9295666f-0dfe-4bf8-ca64-79e997811b1f"
      },
      "execution_count": null,
      "outputs": [
        {
          "output_type": "execute_result",
          "data": {
            "text/plain": [
              "Aceptada      570\n",
              "En proceso    162\n",
              "Rechazada      78\n",
              "Name: status_txn, dtype: int64"
            ]
          },
          "metadata": {},
          "execution_count": 92
        }
      ]
    },
    {
      "cell_type": "markdown",
      "source": [
        "Only `9.62%` of the fraudulent transactions were denied "
      ],
      "metadata": {
        "id": "YJaQA6NoP_3Y"
      }
    },
    {
      "cell_type": "code",
      "source": [
        "# Top 10 user with more fraudulent transactions\n",
        "df_fraude[df_fraude.duplicated('user_id')]['user_id'].value_counts()[:10]"
      ],
      "metadata": {
        "colab": {
          "base_uri": "https://localhost:8080/"
        },
        "id": "ShSuFmjTHQox",
        "outputId": "533506a0-cf17-4cbf-b4ab-69c6a34ed7cc"
      },
      "execution_count": null,
      "outputs": [
        {
          "output_type": "execute_result",
          "data": {
            "text/plain": [
              "1395    3\n",
              "1872    3\n",
              "1928    3\n",
              "3913    3\n",
              "2402    2\n",
              "2608    2\n",
              "1671    2\n",
              "1490    2\n",
              "3434    2\n",
              "821     2\n",
              "Name: user_id, dtype: int64"
            ]
          },
          "metadata": {},
          "execution_count": 96
        }
      ]
    },
    {
      "cell_type": "code",
      "source": [
        "df_fraude[df_fraude['user_id']==1395]"
      ],
      "metadata": {
        "colab": {
          "base_uri": "https://localhost:8080/",
          "height": 288
        },
        "id": "IkMUJHonQfsQ",
        "outputId": "f536e9ae-0491-4693-f300-f79d71629d6d"
      },
      "execution_count": null,
      "outputs": [
        {
          "output_type": "execute_result",
          "data": {
            "text/plain": [
              "       transaction_id  user_id género  linea_tc  interes_tc   monto     fecha  \\\n",
              "2983             2984     1395      M     98000          34  843.40  05/01/20   \n",
              "7911             7912     1395      M     98000          34   75.24  10/01/20   \n",
              "18671           18672     1395      M     98000          34  717.44  22/01/20   \n",
              "21415           21416     1395      M     98000          34  256.22  25/01/20   \n",
              "\n",
              "       hora                                        dispositivo  \\\n",
              "2983      9  {'año': 2014, 'marca': 'Samsung', 'proveedor':...   \n",
              "7911     14  {'año': 2018, 'marca': 'Apple', 'proveedor': '...   \n",
              "18671     6  {'año': 2018, 'marca': 'Apple', 'proveedor': '...   \n",
              "21415     5  {'año': 2018, 'marca': 'Apple', 'proveedor': '...   \n",
              "\n",
              "       establecimiento     ciudad  status_txn  is_prime  dcto  cashback  \\\n",
              "2983          Farmacia  Monterrey    Aceptada      True   0.0     25.30   \n",
              "7911          Farmacia  Monterrey    Aceptada      True   0.0      5.27   \n",
              "18671  Compra en línea  Monterrey  En proceso      True   0.0     21.52   \n",
              "21415         Farmacia  Monterrey    Aceptada      True   0.0      7.69   \n",
              "\n",
              "       fraude  \n",
              "2983     True  \n",
              "7911     True  \n",
              "18671    True  \n",
              "21415    True  "
            ],
            "text/html": [
              "\n",
              "  <div id=\"df-d02aac53-821e-46b8-866d-e94c0e86d39b\">\n",
              "    <div class=\"colab-df-container\">\n",
              "      <div>\n",
              "<style scoped>\n",
              "    .dataframe tbody tr th:only-of-type {\n",
              "        vertical-align: middle;\n",
              "    }\n",
              "\n",
              "    .dataframe tbody tr th {\n",
              "        vertical-align: top;\n",
              "    }\n",
              "\n",
              "    .dataframe thead th {\n",
              "        text-align: right;\n",
              "    }\n",
              "</style>\n",
              "<table border=\"1\" class=\"dataframe\">\n",
              "  <thead>\n",
              "    <tr style=\"text-align: right;\">\n",
              "      <th></th>\n",
              "      <th>transaction_id</th>\n",
              "      <th>user_id</th>\n",
              "      <th>género</th>\n",
              "      <th>linea_tc</th>\n",
              "      <th>interes_tc</th>\n",
              "      <th>monto</th>\n",
              "      <th>fecha</th>\n",
              "      <th>hora</th>\n",
              "      <th>dispositivo</th>\n",
              "      <th>establecimiento</th>\n",
              "      <th>ciudad</th>\n",
              "      <th>status_txn</th>\n",
              "      <th>is_prime</th>\n",
              "      <th>dcto</th>\n",
              "      <th>cashback</th>\n",
              "      <th>fraude</th>\n",
              "    </tr>\n",
              "  </thead>\n",
              "  <tbody>\n",
              "    <tr>\n",
              "      <th>2983</th>\n",
              "      <td>2984</td>\n",
              "      <td>1395</td>\n",
              "      <td>M</td>\n",
              "      <td>98000</td>\n",
              "      <td>34</td>\n",
              "      <td>843.40</td>\n",
              "      <td>05/01/20</td>\n",
              "      <td>9</td>\n",
              "      <td>{'año': 2014, 'marca': 'Samsung', 'proveedor':...</td>\n",
              "      <td>Farmacia</td>\n",
              "      <td>Monterrey</td>\n",
              "      <td>Aceptada</td>\n",
              "      <td>True</td>\n",
              "      <td>0.0</td>\n",
              "      <td>25.30</td>\n",
              "      <td>True</td>\n",
              "    </tr>\n",
              "    <tr>\n",
              "      <th>7911</th>\n",
              "      <td>7912</td>\n",
              "      <td>1395</td>\n",
              "      <td>M</td>\n",
              "      <td>98000</td>\n",
              "      <td>34</td>\n",
              "      <td>75.24</td>\n",
              "      <td>10/01/20</td>\n",
              "      <td>14</td>\n",
              "      <td>{'año': 2018, 'marca': 'Apple', 'proveedor': '...</td>\n",
              "      <td>Farmacia</td>\n",
              "      <td>Monterrey</td>\n",
              "      <td>Aceptada</td>\n",
              "      <td>True</td>\n",
              "      <td>0.0</td>\n",
              "      <td>5.27</td>\n",
              "      <td>True</td>\n",
              "    </tr>\n",
              "    <tr>\n",
              "      <th>18671</th>\n",
              "      <td>18672</td>\n",
              "      <td>1395</td>\n",
              "      <td>M</td>\n",
              "      <td>98000</td>\n",
              "      <td>34</td>\n",
              "      <td>717.44</td>\n",
              "      <td>22/01/20</td>\n",
              "      <td>6</td>\n",
              "      <td>{'año': 2018, 'marca': 'Apple', 'proveedor': '...</td>\n",
              "      <td>Compra en línea</td>\n",
              "      <td>Monterrey</td>\n",
              "      <td>En proceso</td>\n",
              "      <td>True</td>\n",
              "      <td>0.0</td>\n",
              "      <td>21.52</td>\n",
              "      <td>True</td>\n",
              "    </tr>\n",
              "    <tr>\n",
              "      <th>21415</th>\n",
              "      <td>21416</td>\n",
              "      <td>1395</td>\n",
              "      <td>M</td>\n",
              "      <td>98000</td>\n",
              "      <td>34</td>\n",
              "      <td>256.22</td>\n",
              "      <td>25/01/20</td>\n",
              "      <td>5</td>\n",
              "      <td>{'año': 2018, 'marca': 'Apple', 'proveedor': '...</td>\n",
              "      <td>Farmacia</td>\n",
              "      <td>Monterrey</td>\n",
              "      <td>Aceptada</td>\n",
              "      <td>True</td>\n",
              "      <td>0.0</td>\n",
              "      <td>7.69</td>\n",
              "      <td>True</td>\n",
              "    </tr>\n",
              "  </tbody>\n",
              "</table>\n",
              "</div>\n",
              "      <button class=\"colab-df-convert\" onclick=\"convertToInteractive('df-d02aac53-821e-46b8-866d-e94c0e86d39b')\"\n",
              "              title=\"Convert this dataframe to an interactive table.\"\n",
              "              style=\"display:none;\">\n",
              "        \n",
              "  <svg xmlns=\"http://www.w3.org/2000/svg\" height=\"24px\"viewBox=\"0 0 24 24\"\n",
              "       width=\"24px\">\n",
              "    <path d=\"M0 0h24v24H0V0z\" fill=\"none\"/>\n",
              "    <path d=\"M18.56 5.44l.94 2.06.94-2.06 2.06-.94-2.06-.94-.94-2.06-.94 2.06-2.06.94zm-11 1L8.5 8.5l.94-2.06 2.06-.94-2.06-.94L8.5 2.5l-.94 2.06-2.06.94zm10 10l.94 2.06.94-2.06 2.06-.94-2.06-.94-.94-2.06-.94 2.06-2.06.94z\"/><path d=\"M17.41 7.96l-1.37-1.37c-.4-.4-.92-.59-1.43-.59-.52 0-1.04.2-1.43.59L10.3 9.45l-7.72 7.72c-.78.78-.78 2.05 0 2.83L4 21.41c.39.39.9.59 1.41.59.51 0 1.02-.2 1.41-.59l7.78-7.78 2.81-2.81c.8-.78.8-2.07 0-2.86zM5.41 20L4 18.59l7.72-7.72 1.47 1.35L5.41 20z\"/>\n",
              "  </svg>\n",
              "      </button>\n",
              "      \n",
              "  <style>\n",
              "    .colab-df-container {\n",
              "      display:flex;\n",
              "      flex-wrap:wrap;\n",
              "      gap: 12px;\n",
              "    }\n",
              "\n",
              "    .colab-df-convert {\n",
              "      background-color: #E8F0FE;\n",
              "      border: none;\n",
              "      border-radius: 50%;\n",
              "      cursor: pointer;\n",
              "      display: none;\n",
              "      fill: #1967D2;\n",
              "      height: 32px;\n",
              "      padding: 0 0 0 0;\n",
              "      width: 32px;\n",
              "    }\n",
              "\n",
              "    .colab-df-convert:hover {\n",
              "      background-color: #E2EBFA;\n",
              "      box-shadow: 0px 1px 2px rgba(60, 64, 67, 0.3), 0px 1px 3px 1px rgba(60, 64, 67, 0.15);\n",
              "      fill: #174EA6;\n",
              "    }\n",
              "\n",
              "    [theme=dark] .colab-df-convert {\n",
              "      background-color: #3B4455;\n",
              "      fill: #D2E3FC;\n",
              "    }\n",
              "\n",
              "    [theme=dark] .colab-df-convert:hover {\n",
              "      background-color: #434B5C;\n",
              "      box-shadow: 0px 1px 3px 1px rgba(0, 0, 0, 0.15);\n",
              "      filter: drop-shadow(0px 1px 2px rgba(0, 0, 0, 0.3));\n",
              "      fill: #FFFFFF;\n",
              "    }\n",
              "  </style>\n",
              "\n",
              "      <script>\n",
              "        const buttonEl =\n",
              "          document.querySelector('#df-d02aac53-821e-46b8-866d-e94c0e86d39b button.colab-df-convert');\n",
              "        buttonEl.style.display =\n",
              "          google.colab.kernel.accessAllowed ? 'block' : 'none';\n",
              "\n",
              "        async function convertToInteractive(key) {\n",
              "          const element = document.querySelector('#df-d02aac53-821e-46b8-866d-e94c0e86d39b');\n",
              "          const dataTable =\n",
              "            await google.colab.kernel.invokeFunction('convertToInteractive',\n",
              "                                                     [key], {});\n",
              "          if (!dataTable) return;\n",
              "\n",
              "          const docLinkHtml = 'Like what you see? Visit the ' +\n",
              "            '<a target=\"_blank\" href=https://colab.research.google.com/notebooks/data_table.ipynb>data table notebook</a>'\n",
              "            + ' to learn more about interactive tables.';\n",
              "          element.innerHTML = '';\n",
              "          dataTable['output_type'] = 'display_data';\n",
              "          await google.colab.output.renderOutput(dataTable, element);\n",
              "          const docLink = document.createElement('div');\n",
              "          docLink.innerHTML = docLinkHtml;\n",
              "          element.appendChild(docLink);\n",
              "        }\n",
              "      </script>\n",
              "    </div>\n",
              "  </div>\n",
              "  "
            ]
          },
          "metadata": {},
          "execution_count": 94
        }
      ]
    },
    {
      "cell_type": "markdown",
      "source": [
        "There are 4 users that have made 4 fraudulent transactions"
      ],
      "metadata": {
        "id": "C6Zhv1g2QbTt"
      }
    },
    {
      "cell_type": "code",
      "source": [
        "rappi_df.user_id.nunique()"
      ],
      "metadata": {
        "colab": {
          "base_uri": "https://localhost:8080/"
        },
        "id": "QhQzQXD3QwDH",
        "outputId": "34a51268-6715-45c8-df0c-1a0ae6e76a1d"
      },
      "execution_count": null,
      "outputs": [
        {
          "output_type": "execute_result",
          "data": {
            "text/plain": [
              "4000"
            ]
          },
          "metadata": {},
          "execution_count": 102
        }
      ]
    },
    {
      "cell_type": "code",
      "source": [
        "df_fraude.user_id.nunique()"
      ],
      "metadata": {
        "colab": {
          "base_uri": "https://localhost:8080/"
        },
        "id": "UOWkbaexWHnf",
        "outputId": "38e97419-512e-4040-e51e-d3f719b1c89e"
      },
      "execution_count": null,
      "outputs": [
        {
          "output_type": "execute_result",
          "data": {
            "text/plain": [
              "675"
            ]
          },
          "metadata": {},
          "execution_count": 103
        }
      ]
    },
    {
      "cell_type": "markdown",
      "source": [
        "There are a total of 4,000 users that make the whole 26,975 transactions, of which 675 user have at least one fraudulent transaction. `16.87%` of the users have at least one fraudulent transaction. "
      ],
      "metadata": {
        "id": "GUF70HZ5VyRS"
      }
    },
    {
      "cell_type": "code",
      "source": [
        "cols = ['ciudad', 'establecimiento', 'género', 'is_prime']\n",
        "for i in cols:\n",
        "  df_fraude[i].value_counts().plot(kind='barh')\n",
        "  plt.show()#, df_fraude[i].value_counts()\n",
        "  print('\\n')"
      ],
      "metadata": {
        "colab": {
          "base_uri": "https://localhost:8080/",
          "height": 1000
        },
        "id": "qyuggDs3Wer3",
        "outputId": "f0e3ee6b-5765-414d-b745-72eeef814aff"
      },
      "execution_count": null,
      "outputs": [
        {
          "output_type": "display_data",
          "data": {
            "text/plain": [
              "<Figure size 432x288 with 1 Axes>"
            ],
            "image/png": "[encoded data removed]"
          },
          "metadata": {}
        },
        {
          "output_type": "stream",
          "name": "stdout",
          "text": [
            "\n",
            "\n"
          ]
        },
        {
          "output_type": "display_data",
          "data": {
            "text/plain": [
              "<Figure size 432x288 with 1 Axes>"
            ],
            "image/png": "[encoded data removed]"
          },
          "metadata": {}
        },
        {
          "output_type": "stream",
          "name": "stdout",
          "text": [
            "\n",
            "\n"
          ]
        },
        {
          "output_type": "display_data",
          "data": {
            "text/plain": [
              "<Figure size 432x288 with 1 Axes>"
            ],
            "image/png": "[encoded data removed]"
          },
          "metadata": {}
        },
        {
          "output_type": "stream",
          "name": "stdout",
          "text": [
            "\n",
            "\n"
          ]
        },
        {
          "output_type": "display_data",
          "data": {
            "text/plain": [
              "<Figure size 432x288 with 1 Axes>"
            ],
            "image/png": "[encoded data removed]"
          },
          "metadata": {}
        },
        {
          "output_type": "stream",
          "name": "stdout",
          "text": [
            "\n",
            "\n"
          ]
        }
      ]
    },
    {
      "cell_type": "markdown",
      "source": [
        "- We can see that monterrey is the place where most fraudulent transactions have been made, followed closely by guadalajara.\n",
        "\n",
        "- Online purchases are the most frequent type of purchase.\n",
        "\n",
        "- Gender does not seem to influence fraudulent transactions.\n",
        "\n",
        "- Interestingly, there is a small but unexpected amount of fraudulent transactions in which the user is a member of rappi prime.\n"
      ],
      "metadata": {
        "id": "Ji7x8brbZh4S"
      }
    },
    {
      "cell_type": "code",
      "source": [
        "plt.figure(figsize=(15,8))\n",
        "sns.countplot(x='hora',data=df_fraude, palette = 'pastel')\n",
        "plt.title(\"Hour distribution of fraudulent transactions\")\n",
        "plt.show()"
      ],
      "metadata": {
        "colab": {
          "base_uri": "https://localhost:8080/",
          "height": 518
        },
        "id": "3GPXY47DWjS1",
        "outputId": "9719ad8a-4266-4d1f-f662-93465641274b"
      },
      "execution_count": null,
      "outputs": [
        {
          "output_type": "display_data",
          "data": {
            "text/plain": [
              "<Figure size 1080x576 with 1 Axes>"
            ],
            "image/png": "[encoded data removed]"
          },
          "metadata": {}
        }
      ]
    },
    {
      "cell_type": "markdown",
      "source": [
        "We can observe that the time when most fraudulent transactions are committed is around noon."
      ],
      "metadata": {
        "id": "l5r-ZIWgW2Fr"
      }
    },
    {
      "cell_type": "markdown",
      "source": [
        "#### Correlation"
      ],
      "metadata": {
        "id": "1DQKx6W8T-br"
      }
    },
    {
      "cell_type": "code",
      "source": [
        "# Correlation matrix\n",
        "sns.set(style=\"white\", font_scale=1)\n",
        "numeric = ['linea_tc','interes_tc','monto','is_prime','dcto','cashback']\n",
        "corr = df[numeric].corr() # .corr is used to find corelation\n",
        "\n",
        "mask = np.triu(np.ones_like(corr, dtype=np.bool))\n",
        "f, ax = plt.subplots(figsize=(20, 13))\n",
        "cmap = sns.diverging_palette(220, 10, as_cmap=True)\n",
        "ax=sns.heatmap(corr, mask=mask, vmax=1, vmin=-1, center=0,\n",
        "            square=True, linewidths=.5, cmap=cmap, cbar_kws={\"shrink\": .5}, annot=True, annot_kws={\"size\": 10})\n",
        "cbar=ax.collections[0].colorbar\n",
        "cbar.set_ticks([-1, -0.50, 0, 0.50, 1])"
      ],
      "metadata": {
        "colab": {
          "base_uri": "https://localhost:8080/",
          "height": 758
        },
        "id": "ygoNfUGuUANn",
        "outputId": "bc7d3bce-55ed-403f-b7e5-d8660a1a2009"
      },
      "execution_count": null,
      "outputs": [
        {
          "output_type": "display_data",
          "data": {
            "text/plain": [
              "<Figure size 1440x936 with 2 Axes>"
            ],
            "image/png": "[encoded data removed]"
          },
          "metadata": {}
        }
      ]
    },
    {
      "cell_type": "markdown",
      "source": [
        "We can see that there is no strong correlation in the variables except for cashback and amount, which makes sense considering that the cashback percentage is fixed and the more you spend the more cashback you get."
      ],
      "metadata": {
        "id": "X-pMVmlqUtAI"
      }
    },
    {
      "cell_type": "code",
      "source": [
        "import matplotlib.patches as mpatches\n",
        "import matplotlib\n",
        "\n",
        "data_np=df.to_numpy()\n",
        "target=df.fraude\n",
        "\n",
        "# variables to \n",
        "cashback = df['cashback'].to_numpy()\n",
        "amount = df['monto'].to_numpy()\n",
        "\n",
        "\n",
        "fig, ax = plt.subplots(figsize= (15,6))\n",
        "\n",
        "labels=[\"Non Default\",\"Default\"]\n",
        "pop_a = mpatches.Patch(color='steelblue', label='Non Default')\n",
        "pop_b = mpatches.Patch(color='crimson', label='Default')\n",
        "colors=['crimson', 'steelblue']\n",
        "\n",
        "ax.scatter(amount, cashback, c=target, cmap=matplotlib.colors.ListedColormap(colors), label=labels, alpha=0.5)\n",
        "ax.grid()\n",
        "ax.set_xlabel('amount')\n",
        "ax.set_ylabel('cashback')\n",
        "ax.legend(handles= [pop_a,pop_b])\n",
        "\n",
        "plt.tight_layout()\n",
        "plt.show()"
      ],
      "metadata": {
        "colab": {
          "base_uri": "https://localhost:8080/",
          "height": 437
        },
        "id": "mmpvOBgbUHXu",
        "outputId": "34b24535-8550-4082-e1a1-9aa58c9bbb1b"
      },
      "execution_count": null,
      "outputs": [
        {
          "output_type": "display_data",
          "data": {
            "text/plain": [
              "<Figure size 1080x432 with 1 Axes>"
            ],
            "image/png": "[encoded data removed]"
          },
          "metadata": {}
        }
      ]
    },
    {
      "cell_type": "markdown",
      "source": [
        "The above linear relationship of the amount and cashback variables is confirmed, the cashback variable will be discarded in the NN model.\n"
      ],
      "metadata": {
        "id": "vNVTe2FkUqUP"
      }
    },
    {
      "cell_type": "code",
      "source": [
        "from google.colab import files\n",
        "\n",
        "df.to_csv('rappi_challenge_clean.csv')\n",
        "files.download('rappi_challenge_clean.csv')"
      ],
      "metadata": {
        "colab": {
          "base_uri": "https://localhost:8080/",
          "height": 17
        },
        "id": "bLcLV-PlUq9j",
        "outputId": "3d4d5cd0-8a94-488c-cd9f-0bf41b379a05"
      },
      "execution_count": null,
      "outputs": [
        {
          "output_type": "display_data",
          "data": {
            "text/plain": [
              "<IPython.core.display.Javascript object>"
            ],
            "application/javascript": [
              "\n",
              "    async function download(id, filename, size) {\n",
              "      if (!google.colab.kernel.accessAllowed) {\n",
              "        return;\n",
              "      }\n",
              "      const div = document.createElement('div');\n",
              "      const label = document.createElement('label');\n",
              "      label.textContent = `Downloading \"${filename}\": `;\n",
              "      div.appendChild(label);\n",
              "      const progress = document.createElement('progress');\n",
              "      progress.max = size;\n",
              "      div.appendChild(progress);\n",
              "      document.body.appendChild(div);\n",
              "\n",
              "      const buffers = [];\n",
              "      let downloaded = 0;\n",
              "\n",
              "      const channel = await google.colab.kernel.comms.open(id);\n",
              "      // Send a message to notify the kernel that we're ready.\n",
              "      channel.send({})\n",
              "\n",
              "      for await (const message of channel.messages) {\n",
              "        // Send a message to notify the kernel that we're ready.\n",
              "        channel.send({})\n",
              "        if (message.buffers) {\n",
              "          for (const buffer of message.buffers) {\n",
              "            buffers.push(buffer);\n",
              "            downloaded += buffer.byteLength;\n",
              "            progress.value = downloaded;\n",
              "          }\n",
              "        }\n",
              "      }\n",
              "      const blob = new Blob(buffers, {type: 'application/binary'});\n",
              "      const a = document.createElement('a');\n",
              "      a.href = window.URL.createObjectURL(blob);\n",
              "      a.download = filename;\n",
              "      div.appendChild(a);\n",
              "      a.click();\n",
              "      div.remove();\n",
              "    }\n",
              "  "
            ]
          },
          "metadata": {}
        },
        {
          "output_type": "display_data",
          "data": {
            "text/plain": [
              "<IPython.core.display.Javascript object>"
            ],
            "application/javascript": [
              "download(\"download_550d98f8-c4bf-448b-8f5a-78cdf79ce0fa\", \"rappi_challenge_clean.csv\", 3266924)"
            ]
          },
          "metadata": {}
        }
      ]
    }
  ]
}