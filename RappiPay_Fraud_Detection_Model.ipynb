{
  "cells": [
    {
      "cell_type": "code",
      "execution_count": 40,
      "metadata": {
        "id": "fVo2b4CXbIdn"
      },
      "outputs": [],
      "source": [
        "import matplotlib.pyplot as plt\n",
        "import matplotlib as mpl\n",
        "import numpy as np\n",
        "import pandas as pd\n",
        "import sklearn\n",
        "from sklearn.metrics import confusion_matrix\n",
        "from sklearn.model_selection import train_test_split\n",
        "from sklearn.preprocessing import StandardScaler\n",
        "from sklearn.preprocessing import OneHotEncoder"
      ]
    },
    {
      "cell_type": "code",
      "execution_count": 41,
      "metadata": {
        "id": "ALJLe-A_bMS0"
      },
      "outputs": [],
      "source": [
        "df = pd.read_csv('rappi_challenge_clean.csv')"
      ]
    },
    {
      "cell_type": "code",
      "execution_count": 42,
      "metadata": {
        "colab": {
          "base_uri": "https://localhost:8080/",
          "height": 374
        },
        "id": "3-0-ezSjbV5m",
        "outputId": "1dba1824-440f-4f3e-a13b-39870b588272"
      },
      "outputs": [
        {
          "data": {
            "text/html": [
              "<div>\n",
              "<style scoped>\n",
              "    .dataframe tbody tr th:only-of-type {\n",
              "        vertical-align: middle;\n",
              "    }\n",
              "\n",
              "    .dataframe tbody tr th {\n",
              "        vertical-align: top;\n",
              "    }\n",
              "\n",
              "    .dataframe thead th {\n",
              "        text-align: right;\n",
              "    }\n",
              "</style>\n",
              "<table border=\"1\" class=\"dataframe\">\n",
              "  <thead>\n",
              "    <tr style=\"text-align: right;\">\n",
              "      <th></th>\n",
              "      <th>Unnamed: 0</th>\n",
              "      <th>transaction_id</th>\n",
              "      <th>user_id</th>\n",
              "      <th>genero</th>\n",
              "      <th>linea_tc</th>\n",
              "      <th>interes_tc</th>\n",
              "      <th>monto</th>\n",
              "      <th>fecha</th>\n",
              "      <th>hora</th>\n",
              "      <th>establecimiento</th>\n",
              "      <th>ciudad</th>\n",
              "      <th>status_txn</th>\n",
              "      <th>is_prime</th>\n",
              "      <th>dcto</th>\n",
              "      <th>cashback</th>\n",
              "      <th>fraude</th>\n",
              "      <th>anio</th>\n",
              "      <th>marca</th>\n",
              "      <th>proveedor</th>\n",
              "    </tr>\n",
              "  </thead>\n",
              "  <tbody>\n",
              "    <tr>\n",
              "      <th>0</th>\n",
              "      <td>0</td>\n",
              "      <td>1</td>\n",
              "      <td>573</td>\n",
              "      <td>M</td>\n",
              "      <td>87000</td>\n",
              "      <td>56</td>\n",
              "      <td>581.03</td>\n",
              "      <td>02/01/20</td>\n",
              "      <td>0</td>\n",
              "      <td>Farmacia</td>\n",
              "      <td>Ciudad de México</td>\n",
              "      <td>Aceptada</td>\n",
              "      <td>False</td>\n",
              "      <td>0.0</td>\n",
              "      <td>17.43</td>\n",
              "      <td>False</td>\n",
              "      <td>2019</td>\n",
              "      <td>Apple</td>\n",
              "      <td>Telcel</td>\n",
              "    </tr>\n",
              "    <tr>\n",
              "      <th>1</th>\n",
              "      <td>1</td>\n",
              "      <td>2</td>\n",
              "      <td>737</td>\n",
              "      <td>F</td>\n",
              "      <td>34000</td>\n",
              "      <td>51</td>\n",
              "      <td>421.73</td>\n",
              "      <td>02/01/20</td>\n",
              "      <td>0</td>\n",
              "      <td>Tienda departamental</td>\n",
              "      <td>Cancún</td>\n",
              "      <td>Aceptada</td>\n",
              "      <td>False</td>\n",
              "      <td>0.0</td>\n",
              "      <td>12.65</td>\n",
              "      <td>False</td>\n",
              "      <td>2021</td>\n",
              "      <td>Huawei</td>\n",
              "      <td>ATT</td>\n",
              "    </tr>\n",
              "    <tr>\n",
              "      <th>2</th>\n",
              "      <td>2</td>\n",
              "      <td>3</td>\n",
              "      <td>887</td>\n",
              "      <td>F</td>\n",
              "      <td>52000</td>\n",
              "      <td>38</td>\n",
              "      <td>399.55</td>\n",
              "      <td>02/01/20</td>\n",
              "      <td>0</td>\n",
              "      <td>Farmacia</td>\n",
              "      <td>Tijuana</td>\n",
              "      <td>En proceso</td>\n",
              "      <td>False</td>\n",
              "      <td>0.0</td>\n",
              "      <td>11.99</td>\n",
              "      <td>False</td>\n",
              "      <td>2017</td>\n",
              "      <td>Apple</td>\n",
              "      <td>ATT</td>\n",
              "    </tr>\n",
              "    <tr>\n",
              "      <th>3</th>\n",
              "      <td>3</td>\n",
              "      <td>4</td>\n",
              "      <td>1304</td>\n",
              "      <td>M</td>\n",
              "      <td>67000</td>\n",
              "      <td>60</td>\n",
              "      <td>828.01</td>\n",
              "      <td>02/01/20</td>\n",
              "      <td>0</td>\n",
              "      <td>Tienda departamental</td>\n",
              "      <td>Ciudad de México</td>\n",
              "      <td>En proceso</td>\n",
              "      <td>False</td>\n",
              "      <td>0.0</td>\n",
              "      <td>24.84</td>\n",
              "      <td>False</td>\n",
              "      <td>2019</td>\n",
              "      <td>Samsung</td>\n",
              "      <td>ATT</td>\n",
              "    </tr>\n",
              "    <tr>\n",
              "      <th>4</th>\n",
              "      <td>4</td>\n",
              "      <td>5</td>\n",
              "      <td>1361</td>\n",
              "      <td>F</td>\n",
              "      <td>28000</td>\n",
              "      <td>52</td>\n",
              "      <td>886.04</td>\n",
              "      <td>02/01/20</td>\n",
              "      <td>0</td>\n",
              "      <td>Supermercado</td>\n",
              "      <td>Cancún</td>\n",
              "      <td>Aceptada</td>\n",
              "      <td>False</td>\n",
              "      <td>0.0</td>\n",
              "      <td>26.58</td>\n",
              "      <td>False</td>\n",
              "      <td>2021</td>\n",
              "      <td>Samsung</td>\n",
              "      <td>Telcel</td>\n",
              "    </tr>\n",
              "  </tbody>\n",
              "</table>\n",
              "</div>"
            ],
            "text/plain": [
              "   Unnamed: 0  transaction_id  user_id genero  linea_tc  interes_tc   monto     fecha  hora       establecimiento            ciudad  status_txn  is_prime  dcto  cashback  fraude  anio    marca proveedor\n",
              "0           0               1      573      M     87000          56  581.03  02/01/20     0              Farmacia  Ciudad de México    Aceptada     False   0.0     17.43   False  2019    Apple    Telcel\n",
              "1           1               2      737      F     34000          51  421.73  02/01/20     0  Tienda departamental            Cancún    Aceptada     False   0.0     12.65   False  2021   Huawei       ATT\n",
              "2           2               3      887      F     52000          38  399.55  02/01/20     0              Farmacia           Tijuana  En proceso     False   0.0     11.99   False  2017    Apple       ATT\n",
              "3           3               4     1304      M     67000          60  828.01  02/01/20     0  Tienda departamental  Ciudad de México  En proceso     False   0.0     24.84   False  2019  Samsung       ATT\n",
              "4           4               5     1361      F     28000          52  886.04  02/01/20     0          Supermercado            Cancún    Aceptada     False   0.0     26.58   False  2021  Samsung    Telcel"
            ]
          },
          "execution_count": 42,
          "metadata": {},
          "output_type": "execute_result"
        }
      ],
      "source": [
        "df.head()"
      ]
    },
    {
      "cell_type": "code",
      "execution_count": 43,
      "metadata": {
        "id": "BJ4MYYsLfbTW"
      },
      "outputs": [],
      "source": [
        "df = df.drop(['Unnamed: 0'], axis=1)"
      ]
    },
    {
      "cell_type": "code",
      "execution_count": 44,
      "metadata": {
        "id": "LdMtlyhdgLTZ"
      },
      "outputs": [],
      "source": [
        "df2 = df.copy()"
      ]
    },
    {
      "cell_type": "code",
      "execution_count": 45,
      "metadata": {
        "colab": {
          "base_uri": "https://localhost:8080/",
          "height": 357
        },
        "id": "tWN68oNKbtRc",
        "outputId": "270941fd-cddf-47ae-e05c-29c77b28519a"
      },
      "outputs": [
        {
          "data": {
            "text/html": [
              "<div>\n",
              "<style scoped>\n",
              "    .dataframe tbody tr th:only-of-type {\n",
              "        vertical-align: middle;\n",
              "    }\n",
              "\n",
              "    .dataframe tbody tr th {\n",
              "        vertical-align: top;\n",
              "    }\n",
              "\n",
              "    .dataframe thead th {\n",
              "        text-align: right;\n",
              "    }\n",
              "</style>\n",
              "<table border=\"1\" class=\"dataframe\">\n",
              "  <thead>\n",
              "    <tr style=\"text-align: right;\">\n",
              "      <th></th>\n",
              "      <th>transaction_id</th>\n",
              "      <th>user_id</th>\n",
              "      <th>genero</th>\n",
              "      <th>linea_tc</th>\n",
              "      <th>interes_tc</th>\n",
              "      <th>monto</th>\n",
              "      <th>fecha</th>\n",
              "      <th>hora</th>\n",
              "      <th>establecimiento</th>\n",
              "      <th>ciudad</th>\n",
              "      <th>status_txn</th>\n",
              "      <th>is_prime</th>\n",
              "      <th>dcto</th>\n",
              "      <th>cashback</th>\n",
              "      <th>fraude</th>\n",
              "      <th>anio</th>\n",
              "      <th>marca</th>\n",
              "      <th>proveedor</th>\n",
              "    </tr>\n",
              "  </thead>\n",
              "  <tbody>\n",
              "    <tr>\n",
              "      <th>0</th>\n",
              "      <td>1</td>\n",
              "      <td>573</td>\n",
              "      <td>M</td>\n",
              "      <td>87000</td>\n",
              "      <td>56</td>\n",
              "      <td>581.03</td>\n",
              "      <td>02/01/20</td>\n",
              "      <td>0</td>\n",
              "      <td>Farmacia</td>\n",
              "      <td>Ciudad de México</td>\n",
              "      <td>Aceptada</td>\n",
              "      <td>False</td>\n",
              "      <td>0.0</td>\n",
              "      <td>17.43</td>\n",
              "      <td>False</td>\n",
              "      <td>2019</td>\n",
              "      <td>Apple</td>\n",
              "      <td>Telcel</td>\n",
              "    </tr>\n",
              "    <tr>\n",
              "      <th>1</th>\n",
              "      <td>2</td>\n",
              "      <td>737</td>\n",
              "      <td>F</td>\n",
              "      <td>34000</td>\n",
              "      <td>51</td>\n",
              "      <td>421.73</td>\n",
              "      <td>02/01/20</td>\n",
              "      <td>0</td>\n",
              "      <td>Tienda departamental</td>\n",
              "      <td>Cancún</td>\n",
              "      <td>Aceptada</td>\n",
              "      <td>False</td>\n",
              "      <td>0.0</td>\n",
              "      <td>12.65</td>\n",
              "      <td>False</td>\n",
              "      <td>2021</td>\n",
              "      <td>Huawei</td>\n",
              "      <td>ATT</td>\n",
              "    </tr>\n",
              "    <tr>\n",
              "      <th>2</th>\n",
              "      <td>3</td>\n",
              "      <td>887</td>\n",
              "      <td>F</td>\n",
              "      <td>52000</td>\n",
              "      <td>38</td>\n",
              "      <td>399.55</td>\n",
              "      <td>02/01/20</td>\n",
              "      <td>0</td>\n",
              "      <td>Farmacia</td>\n",
              "      <td>Tijuana</td>\n",
              "      <td>En proceso</td>\n",
              "      <td>False</td>\n",
              "      <td>0.0</td>\n",
              "      <td>11.99</td>\n",
              "      <td>False</td>\n",
              "      <td>2017</td>\n",
              "      <td>Apple</td>\n",
              "      <td>ATT</td>\n",
              "    </tr>\n",
              "    <tr>\n",
              "      <th>3</th>\n",
              "      <td>4</td>\n",
              "      <td>1304</td>\n",
              "      <td>M</td>\n",
              "      <td>67000</td>\n",
              "      <td>60</td>\n",
              "      <td>828.01</td>\n",
              "      <td>02/01/20</td>\n",
              "      <td>0</td>\n",
              "      <td>Tienda departamental</td>\n",
              "      <td>Ciudad de México</td>\n",
              "      <td>En proceso</td>\n",
              "      <td>False</td>\n",
              "      <td>0.0</td>\n",
              "      <td>24.84</td>\n",
              "      <td>False</td>\n",
              "      <td>2019</td>\n",
              "      <td>Samsung</td>\n",
              "      <td>ATT</td>\n",
              "    </tr>\n",
              "    <tr>\n",
              "      <th>4</th>\n",
              "      <td>5</td>\n",
              "      <td>1361</td>\n",
              "      <td>F</td>\n",
              "      <td>28000</td>\n",
              "      <td>52</td>\n",
              "      <td>886.04</td>\n",
              "      <td>02/01/20</td>\n",
              "      <td>0</td>\n",
              "      <td>Supermercado</td>\n",
              "      <td>Cancún</td>\n",
              "      <td>Aceptada</td>\n",
              "      <td>False</td>\n",
              "      <td>0.0</td>\n",
              "      <td>26.58</td>\n",
              "      <td>False</td>\n",
              "      <td>2021</td>\n",
              "      <td>Samsung</td>\n",
              "      <td>Telcel</td>\n",
              "    </tr>\n",
              "  </tbody>\n",
              "</table>\n",
              "</div>"
            ],
            "text/plain": [
              "   transaction_id  user_id genero  linea_tc  interes_tc   monto     fecha  hora       establecimiento            ciudad  status_txn  is_prime  dcto  cashback  fraude  anio    marca proveedor\n",
              "0               1      573      M     87000          56  581.03  02/01/20     0              Farmacia  Ciudad de México    Aceptada     False   0.0     17.43   False  2019    Apple    Telcel\n",
              "1               2      737      F     34000          51  421.73  02/01/20     0  Tienda departamental            Cancún    Aceptada     False   0.0     12.65   False  2021   Huawei       ATT\n",
              "2               3      887      F     52000          38  399.55  02/01/20     0              Farmacia           Tijuana  En proceso     False   0.0     11.99   False  2017    Apple       ATT\n",
              "3               4     1304      M     67000          60  828.01  02/01/20     0  Tienda departamental  Ciudad de México  En proceso     False   0.0     24.84   False  2019  Samsung       ATT\n",
              "4               5     1361      F     28000          52  886.04  02/01/20     0          Supermercado            Cancún    Aceptada     False   0.0     26.58   False  2021  Samsung    Telcel"
            ]
          },
          "execution_count": 45,
          "metadata": {},
          "output_type": "execute_result"
        }
      ],
      "source": [
        "df2.head()"
      ]
    },
    {
      "cell_type": "code",
      "execution_count": 46,
      "metadata": {
        "colab": {
          "base_uri": "https://localhost:8080/"
        },
        "id": "fdKV3wQbbuDv",
        "outputId": "cbbcf34e-0f5f-4da3-90f2-803dfed1b216"
      },
      "outputs": [
        {
          "data": {
            "text/plain": [
              "(25837, 804)"
            ]
          },
          "execution_count": 46,
          "metadata": {},
          "output_type": "execute_result"
        }
      ],
      "source": [
        "not_fraud_count, fraud_count = np.bincount(df2[\"fraude\"])\n",
        "not_fraud_count, fraud_count"
      ]
    },
    {
      "cell_type": "code",
      "execution_count": 47,
      "metadata": {
        "colab": {
          "base_uri": "https://localhost:8080/"
        },
        "id": "hEj_LtyJbxB_",
        "outputId": "bd030855-cfcf-4d98-8fa6-222a5e24dc8a"
      },
      "outputs": [
        {
          "name": "stdout",
          "output_type": "stream",
          "text": [
            "Data:\n",
            "    Total: 26641\n",
            "    Fraud: 804 (3.02% of total)\n",
            "\n"
          ]
        }
      ],
      "source": [
        "total_count = not_fraud_count + fraud_count\n",
        "print(\n",
        "    (\n",
        "        f\"Data:\\n\"\n",
        "        f\"    Total: {total_count}\\n\"\n",
        "        f\"    Fraud: {fraud_count} ({100 * fraud_count / total_count:.2f}% of total)\\n\"\n",
        "    )\n",
        ")"
      ]
    },
    {
      "cell_type": "code",
      "execution_count": 12,
      "metadata": {
        "id": "UPThjVK_iDGa"
      },
      "outputs": [],
      "source": [
        "# df2['is_weekend'] = False\n",
        "# for i in range(len(df2)):\n",
        "#   if df2['fecha'].iloc[i] in ('03/01/20','04/01/20', '05/01/20', '10/01/20','11/01/20', '12/01/20', '17/01/20','18/01/20', '19/01/20', '24/01/20','25/01/20', '26/01/20'):\n",
        "#     df2['is_weekend'] = True"
      ]
    },
    {
      "cell_type": "code",
      "execution_count": 13,
      "metadata": {
        "id": "ciVOQNOcky5N"
      },
      "outputs": [],
      "source": [
        "# df2[\"is_night\"] = (df2[\"hora\"] <= 6) & (df2[\"hora\"] >= 21)"
      ]
    },
    {
      "cell_type": "code",
      "execution_count": 14,
      "metadata": {
        "id": "8EHsDjpSfnvE"
      },
      "outputs": [],
      "source": [
        "# df2['fecha'] = pd.to_datetime(df2['fecha'], format='%d/%m/%y')"
      ]
    },
    {
      "cell_type": "code",
      "execution_count": 15,
      "metadata": {
        "id": "0vpBbURiipL5"
      },
      "outputs": [],
      "source": [
        "# df2['customer_transactions_per_day'] = df2.groupby(['user_id', 'fecha'])['transaction_id'].transform('count')"
      ]
    },
    {
      "cell_type": "code",
      "execution_count": 48,
      "metadata": {
        "colab": {
          "base_uri": "https://localhost:8080/",
          "height": 392
        },
        "id": "bhHe1yVDsV2p",
        "outputId": "d3373dba-5aa7-4771-d28e-7936aa52cb3c"
      },
      "outputs": [
        {
          "data": {
            "text/html": [
              "<div>\n",
              "<style scoped>\n",
              "    .dataframe tbody tr th:only-of-type {\n",
              "        vertical-align: middle;\n",
              "    }\n",
              "\n",
              "    .dataframe tbody tr th {\n",
              "        vertical-align: top;\n",
              "    }\n",
              "\n",
              "    .dataframe thead th {\n",
              "        text-align: right;\n",
              "    }\n",
              "</style>\n",
              "<table border=\"1\" class=\"dataframe\">\n",
              "  <thead>\n",
              "    <tr style=\"text-align: right;\">\n",
              "      <th></th>\n",
              "      <th>transaction_id</th>\n",
              "      <th>user_id</th>\n",
              "      <th>genero</th>\n",
              "      <th>linea_tc</th>\n",
              "      <th>interes_tc</th>\n",
              "      <th>monto</th>\n",
              "      <th>fecha</th>\n",
              "      <th>hora</th>\n",
              "      <th>establecimiento</th>\n",
              "      <th>ciudad</th>\n",
              "      <th>status_txn</th>\n",
              "      <th>is_prime</th>\n",
              "      <th>dcto</th>\n",
              "      <th>cashback</th>\n",
              "      <th>fraude</th>\n",
              "      <th>anio</th>\n",
              "      <th>marca</th>\n",
              "      <th>proveedor</th>\n",
              "    </tr>\n",
              "  </thead>\n",
              "  <tbody>\n",
              "    <tr>\n",
              "      <th>0</th>\n",
              "      <td>1</td>\n",
              "      <td>573</td>\n",
              "      <td>M</td>\n",
              "      <td>87000</td>\n",
              "      <td>56</td>\n",
              "      <td>581.03</td>\n",
              "      <td>02/01/20</td>\n",
              "      <td>0</td>\n",
              "      <td>Farmacia</td>\n",
              "      <td>Ciudad de México</td>\n",
              "      <td>Aceptada</td>\n",
              "      <td>False</td>\n",
              "      <td>0.0</td>\n",
              "      <td>17.43</td>\n",
              "      <td>False</td>\n",
              "      <td>2019</td>\n",
              "      <td>Apple</td>\n",
              "      <td>Telcel</td>\n",
              "    </tr>\n",
              "    <tr>\n",
              "      <th>1</th>\n",
              "      <td>2</td>\n",
              "      <td>737</td>\n",
              "      <td>F</td>\n",
              "      <td>34000</td>\n",
              "      <td>51</td>\n",
              "      <td>421.73</td>\n",
              "      <td>02/01/20</td>\n",
              "      <td>0</td>\n",
              "      <td>Tienda departamental</td>\n",
              "      <td>Cancún</td>\n",
              "      <td>Aceptada</td>\n",
              "      <td>False</td>\n",
              "      <td>0.0</td>\n",
              "      <td>12.65</td>\n",
              "      <td>False</td>\n",
              "      <td>2021</td>\n",
              "      <td>Huawei</td>\n",
              "      <td>ATT</td>\n",
              "    </tr>\n",
              "    <tr>\n",
              "      <th>2</th>\n",
              "      <td>3</td>\n",
              "      <td>887</td>\n",
              "      <td>F</td>\n",
              "      <td>52000</td>\n",
              "      <td>38</td>\n",
              "      <td>399.55</td>\n",
              "      <td>02/01/20</td>\n",
              "      <td>0</td>\n",
              "      <td>Farmacia</td>\n",
              "      <td>Tijuana</td>\n",
              "      <td>En proceso</td>\n",
              "      <td>False</td>\n",
              "      <td>0.0</td>\n",
              "      <td>11.99</td>\n",
              "      <td>False</td>\n",
              "      <td>2017</td>\n",
              "      <td>Apple</td>\n",
              "      <td>ATT</td>\n",
              "    </tr>\n",
              "    <tr>\n",
              "      <th>3</th>\n",
              "      <td>4</td>\n",
              "      <td>1304</td>\n",
              "      <td>M</td>\n",
              "      <td>67000</td>\n",
              "      <td>60</td>\n",
              "      <td>828.01</td>\n",
              "      <td>02/01/20</td>\n",
              "      <td>0</td>\n",
              "      <td>Tienda departamental</td>\n",
              "      <td>Ciudad de México</td>\n",
              "      <td>En proceso</td>\n",
              "      <td>False</td>\n",
              "      <td>0.0</td>\n",
              "      <td>24.84</td>\n",
              "      <td>False</td>\n",
              "      <td>2019</td>\n",
              "      <td>Samsung</td>\n",
              "      <td>ATT</td>\n",
              "    </tr>\n",
              "    <tr>\n",
              "      <th>4</th>\n",
              "      <td>5</td>\n",
              "      <td>1361</td>\n",
              "      <td>F</td>\n",
              "      <td>28000</td>\n",
              "      <td>52</td>\n",
              "      <td>886.04</td>\n",
              "      <td>02/01/20</td>\n",
              "      <td>0</td>\n",
              "      <td>Supermercado</td>\n",
              "      <td>Cancún</td>\n",
              "      <td>Aceptada</td>\n",
              "      <td>False</td>\n",
              "      <td>0.0</td>\n",
              "      <td>26.58</td>\n",
              "      <td>False</td>\n",
              "      <td>2021</td>\n",
              "      <td>Samsung</td>\n",
              "      <td>Telcel</td>\n",
              "    </tr>\n",
              "  </tbody>\n",
              "</table>\n",
              "</div>"
            ],
            "text/plain": [
              "   transaction_id  user_id genero  linea_tc  interes_tc   monto     fecha  hora       establecimiento            ciudad  status_txn  is_prime  dcto  cashback  fraude  anio    marca proveedor\n",
              "0               1      573      M     87000          56  581.03  02/01/20     0              Farmacia  Ciudad de México    Aceptada     False   0.0     17.43   False  2019    Apple    Telcel\n",
              "1               2      737      F     34000          51  421.73  02/01/20     0  Tienda departamental            Cancún    Aceptada     False   0.0     12.65   False  2021   Huawei       ATT\n",
              "2               3      887      F     52000          38  399.55  02/01/20     0              Farmacia           Tijuana  En proceso     False   0.0     11.99   False  2017    Apple       ATT\n",
              "3               4     1304      M     67000          60  828.01  02/01/20     0  Tienda departamental  Ciudad de México  En proceso     False   0.0     24.84   False  2019  Samsung       ATT\n",
              "4               5     1361      F     28000          52  886.04  02/01/20     0          Supermercado            Cancún    Aceptada     False   0.0     26.58   False  2021  Samsung    Telcel"
            ]
          },
          "execution_count": 48,
          "metadata": {},
          "output_type": "execute_result"
        }
      ],
      "source": [
        "df2.head()"
      ]
    },
    {
      "cell_type": "code",
      "execution_count": 49,
      "metadata": {
        "id": "6DBYALV2sVyn"
      },
      "outputs": [],
      "source": [
        "import pandas as pd\n",
        "pd.set_option('display.max_columns', 500)\n",
        "pd.set_option('display.width', 1000)"
      ]
    },
    {
      "cell_type": "code",
      "execution_count": 50,
      "metadata": {
        "colab": {
          "base_uri": "https://localhost:8080/",
          "height": 392
        },
        "id": "T7rSEd02sVwm",
        "outputId": "0841f29b-1eac-42a8-89a6-8d69f44121cf"
      },
      "outputs": [
        {
          "data": {
            "text/html": [
              "<div>\n",
              "<style scoped>\n",
              "    .dataframe tbody tr th:only-of-type {\n",
              "        vertical-align: middle;\n",
              "    }\n",
              "\n",
              "    .dataframe tbody tr th {\n",
              "        vertical-align: top;\n",
              "    }\n",
              "\n",
              "    .dataframe thead th {\n",
              "        text-align: right;\n",
              "    }\n",
              "</style>\n",
              "<table border=\"1\" class=\"dataframe\">\n",
              "  <thead>\n",
              "    <tr style=\"text-align: right;\">\n",
              "      <th></th>\n",
              "      <th>transaction_id</th>\n",
              "      <th>user_id</th>\n",
              "      <th>genero</th>\n",
              "      <th>linea_tc</th>\n",
              "      <th>interes_tc</th>\n",
              "      <th>monto</th>\n",
              "      <th>fecha</th>\n",
              "      <th>hora</th>\n",
              "      <th>establecimiento</th>\n",
              "      <th>ciudad</th>\n",
              "      <th>status_txn</th>\n",
              "      <th>is_prime</th>\n",
              "      <th>dcto</th>\n",
              "      <th>cashback</th>\n",
              "      <th>fraude</th>\n",
              "      <th>anio</th>\n",
              "      <th>marca</th>\n",
              "      <th>proveedor</th>\n",
              "    </tr>\n",
              "  </thead>\n",
              "  <tbody>\n",
              "    <tr>\n",
              "      <th>0</th>\n",
              "      <td>1</td>\n",
              "      <td>573</td>\n",
              "      <td>M</td>\n",
              "      <td>87000</td>\n",
              "      <td>56</td>\n",
              "      <td>581.03</td>\n",
              "      <td>02/01/20</td>\n",
              "      <td>0</td>\n",
              "      <td>Farmacia</td>\n",
              "      <td>Ciudad de México</td>\n",
              "      <td>Aceptada</td>\n",
              "      <td>False</td>\n",
              "      <td>0.0</td>\n",
              "      <td>17.43</td>\n",
              "      <td>False</td>\n",
              "      <td>2019</td>\n",
              "      <td>Apple</td>\n",
              "      <td>Telcel</td>\n",
              "    </tr>\n",
              "    <tr>\n",
              "      <th>1</th>\n",
              "      <td>2</td>\n",
              "      <td>737</td>\n",
              "      <td>F</td>\n",
              "      <td>34000</td>\n",
              "      <td>51</td>\n",
              "      <td>421.73</td>\n",
              "      <td>02/01/20</td>\n",
              "      <td>0</td>\n",
              "      <td>Tienda departamental</td>\n",
              "      <td>Cancún</td>\n",
              "      <td>Aceptada</td>\n",
              "      <td>False</td>\n",
              "      <td>0.0</td>\n",
              "      <td>12.65</td>\n",
              "      <td>False</td>\n",
              "      <td>2021</td>\n",
              "      <td>Huawei</td>\n",
              "      <td>ATT</td>\n",
              "    </tr>\n",
              "    <tr>\n",
              "      <th>2</th>\n",
              "      <td>3</td>\n",
              "      <td>887</td>\n",
              "      <td>F</td>\n",
              "      <td>52000</td>\n",
              "      <td>38</td>\n",
              "      <td>399.55</td>\n",
              "      <td>02/01/20</td>\n",
              "      <td>0</td>\n",
              "      <td>Farmacia</td>\n",
              "      <td>Tijuana</td>\n",
              "      <td>En proceso</td>\n",
              "      <td>False</td>\n",
              "      <td>0.0</td>\n",
              "      <td>11.99</td>\n",
              "      <td>False</td>\n",
              "      <td>2017</td>\n",
              "      <td>Apple</td>\n",
              "      <td>ATT</td>\n",
              "    </tr>\n",
              "    <tr>\n",
              "      <th>3</th>\n",
              "      <td>4</td>\n",
              "      <td>1304</td>\n",
              "      <td>M</td>\n",
              "      <td>67000</td>\n",
              "      <td>60</td>\n",
              "      <td>828.01</td>\n",
              "      <td>02/01/20</td>\n",
              "      <td>0</td>\n",
              "      <td>Tienda departamental</td>\n",
              "      <td>Ciudad de México</td>\n",
              "      <td>En proceso</td>\n",
              "      <td>False</td>\n",
              "      <td>0.0</td>\n",
              "      <td>24.84</td>\n",
              "      <td>False</td>\n",
              "      <td>2019</td>\n",
              "      <td>Samsung</td>\n",
              "      <td>ATT</td>\n",
              "    </tr>\n",
              "    <tr>\n",
              "      <th>4</th>\n",
              "      <td>5</td>\n",
              "      <td>1361</td>\n",
              "      <td>F</td>\n",
              "      <td>28000</td>\n",
              "      <td>52</td>\n",
              "      <td>886.04</td>\n",
              "      <td>02/01/20</td>\n",
              "      <td>0</td>\n",
              "      <td>Supermercado</td>\n",
              "      <td>Cancún</td>\n",
              "      <td>Aceptada</td>\n",
              "      <td>False</td>\n",
              "      <td>0.0</td>\n",
              "      <td>26.58</td>\n",
              "      <td>False</td>\n",
              "      <td>2021</td>\n",
              "      <td>Samsung</td>\n",
              "      <td>Telcel</td>\n",
              "    </tr>\n",
              "  </tbody>\n",
              "</table>\n",
              "</div>"
            ],
            "text/plain": [
              "   transaction_id  user_id genero  linea_tc  interes_tc   monto     fecha  hora       establecimiento            ciudad  status_txn  is_prime  dcto  cashback  fraude  anio    marca proveedor\n",
              "0               1      573      M     87000          56  581.03  02/01/20     0              Farmacia  Ciudad de México    Aceptada     False   0.0     17.43   False  2019    Apple    Telcel\n",
              "1               2      737      F     34000          51  421.73  02/01/20     0  Tienda departamental            Cancún    Aceptada     False   0.0     12.65   False  2021   Huawei       ATT\n",
              "2               3      887      F     52000          38  399.55  02/01/20     0              Farmacia           Tijuana  En proceso     False   0.0     11.99   False  2017    Apple       ATT\n",
              "3               4     1304      M     67000          60  828.01  02/01/20     0  Tienda departamental  Ciudad de México  En proceso     False   0.0     24.84   False  2019  Samsung       ATT\n",
              "4               5     1361      F     28000          52  886.04  02/01/20     0          Supermercado            Cancún    Aceptada     False   0.0     26.58   False  2021  Samsung    Telcel"
            ]
          },
          "execution_count": 50,
          "metadata": {},
          "output_type": "execute_result"
        }
      ],
      "source": [
        "df2.head()"
      ]
    },
    {
      "cell_type": "code",
      "execution_count": 51,
      "metadata": {
        "colab": {
          "base_uri": "https://localhost:8080/"
        },
        "id": "vRVOz0WusVup",
        "outputId": "dc46981e-77d3-4c81-8164-5d716ccd8cdc"
      },
      "outputs": [
        {
          "data": {
            "text/plain": [
              "transaction_id       int64\n",
              "user_id              int64\n",
              "genero              object\n",
              "linea_tc             int64\n",
              "interes_tc           int64\n",
              "monto              float64\n",
              "fecha               object\n",
              "hora                 int64\n",
              "establecimiento     object\n",
              "ciudad              object\n",
              "status_txn          object\n",
              "is_prime              bool\n",
              "dcto               float64\n",
              "cashback           float64\n",
              "fraude                bool\n",
              "anio                 int64\n",
              "marca               object\n",
              "proveedor           object\n",
              "dtype: object"
            ]
          },
          "execution_count": 51,
          "metadata": {},
          "output_type": "execute_result"
        }
      ],
      "source": [
        "df2.dtypes"
      ]
    },
    {
      "cell_type": "code",
      "execution_count": 52,
      "metadata": {
        "id": "Oa3L0uKcsVsm"
      },
      "outputs": [],
      "source": [
        "df3 = df2.copy()"
      ]
    },
    {
      "cell_type": "code",
      "execution_count": 53,
      "metadata": {
        "id": "4_Rz0oeZyz9y"
      },
      "outputs": [],
      "source": [
        "df3 = df3.drop(['transaction_id', 'user_id', 'fecha', 'dcto', 'cashback', 'anio'], axis=1)"
      ]
    },
    {
      "cell_type": "code",
      "execution_count": 54,
      "metadata": {},
      "outputs": [
        {
          "data": {
            "text/html": [
              "<div>\n",
              "<style scoped>\n",
              "    .dataframe tbody tr th:only-of-type {\n",
              "        vertical-align: middle;\n",
              "    }\n",
              "\n",
              "    .dataframe tbody tr th {\n",
              "        vertical-align: top;\n",
              "    }\n",
              "\n",
              "    .dataframe thead th {\n",
              "        text-align: right;\n",
              "    }\n",
              "</style>\n",
              "<table border=\"1\" class=\"dataframe\">\n",
              "  <thead>\n",
              "    <tr style=\"text-align: right;\">\n",
              "      <th></th>\n",
              "      <th>genero</th>\n",
              "      <th>linea_tc</th>\n",
              "      <th>interes_tc</th>\n",
              "      <th>monto</th>\n",
              "      <th>hora</th>\n",
              "      <th>establecimiento</th>\n",
              "      <th>ciudad</th>\n",
              "      <th>status_txn</th>\n",
              "      <th>is_prime</th>\n",
              "      <th>fraude</th>\n",
              "      <th>marca</th>\n",
              "      <th>proveedor</th>\n",
              "    </tr>\n",
              "  </thead>\n",
              "  <tbody>\n",
              "    <tr>\n",
              "      <th>0</th>\n",
              "      <td>M</td>\n",
              "      <td>87000</td>\n",
              "      <td>56</td>\n",
              "      <td>581.03</td>\n",
              "      <td>0</td>\n",
              "      <td>Farmacia</td>\n",
              "      <td>Ciudad de México</td>\n",
              "      <td>Aceptada</td>\n",
              "      <td>False</td>\n",
              "      <td>False</td>\n",
              "      <td>Apple</td>\n",
              "      <td>Telcel</td>\n",
              "    </tr>\n",
              "    <tr>\n",
              "      <th>1</th>\n",
              "      <td>F</td>\n",
              "      <td>34000</td>\n",
              "      <td>51</td>\n",
              "      <td>421.73</td>\n",
              "      <td>0</td>\n",
              "      <td>Tienda departamental</td>\n",
              "      <td>Cancún</td>\n",
              "      <td>Aceptada</td>\n",
              "      <td>False</td>\n",
              "      <td>False</td>\n",
              "      <td>Huawei</td>\n",
              "      <td>ATT</td>\n",
              "    </tr>\n",
              "    <tr>\n",
              "      <th>2</th>\n",
              "      <td>F</td>\n",
              "      <td>52000</td>\n",
              "      <td>38</td>\n",
              "      <td>399.55</td>\n",
              "      <td>0</td>\n",
              "      <td>Farmacia</td>\n",
              "      <td>Tijuana</td>\n",
              "      <td>En proceso</td>\n",
              "      <td>False</td>\n",
              "      <td>False</td>\n",
              "      <td>Apple</td>\n",
              "      <td>ATT</td>\n",
              "    </tr>\n",
              "    <tr>\n",
              "      <th>3</th>\n",
              "      <td>M</td>\n",
              "      <td>67000</td>\n",
              "      <td>60</td>\n",
              "      <td>828.01</td>\n",
              "      <td>0</td>\n",
              "      <td>Tienda departamental</td>\n",
              "      <td>Ciudad de México</td>\n",
              "      <td>En proceso</td>\n",
              "      <td>False</td>\n",
              "      <td>False</td>\n",
              "      <td>Samsung</td>\n",
              "      <td>ATT</td>\n",
              "    </tr>\n",
              "    <tr>\n",
              "      <th>4</th>\n",
              "      <td>F</td>\n",
              "      <td>28000</td>\n",
              "      <td>52</td>\n",
              "      <td>886.04</td>\n",
              "      <td>0</td>\n",
              "      <td>Supermercado</td>\n",
              "      <td>Cancún</td>\n",
              "      <td>Aceptada</td>\n",
              "      <td>False</td>\n",
              "      <td>False</td>\n",
              "      <td>Samsung</td>\n",
              "      <td>Telcel</td>\n",
              "    </tr>\n",
              "  </tbody>\n",
              "</table>\n",
              "</div>"
            ],
            "text/plain": [
              "  genero  linea_tc  interes_tc   monto  hora       establecimiento            ciudad  status_txn  is_prime  fraude    marca proveedor\n",
              "0      M     87000          56  581.03     0              Farmacia  Ciudad de México    Aceptada     False   False    Apple    Telcel\n",
              "1      F     34000          51  421.73     0  Tienda departamental            Cancún    Aceptada     False   False   Huawei       ATT\n",
              "2      F     52000          38  399.55     0              Farmacia           Tijuana  En proceso     False   False    Apple       ATT\n",
              "3      M     67000          60  828.01     0  Tienda departamental  Ciudad de México  En proceso     False   False  Samsung       ATT\n",
              "4      F     28000          52  886.04     0          Supermercado            Cancún    Aceptada     False   False  Samsung    Telcel"
            ]
          },
          "execution_count": 54,
          "metadata": {},
          "output_type": "execute_result"
        }
      ],
      "source": [
        "df3.head()"
      ]
    },
    {
      "cell_type": "code",
      "execution_count": 55,
      "metadata": {
        "id": "a_5ZWoZtzNhO"
      },
      "outputs": [],
      "source": [
        "new_data = df3[['genero', 'establecimiento', 'ciudad', 'status_txn', 'marca', 'proveedor']]\n",
        "for col in new_data.columns:\n",
        "  new_data = pd.get_dummies(new_data, columns=[col], prefix=[col], drop_first=True)"
      ]
    },
    {
      "cell_type": "code",
      "execution_count": 56,
      "metadata": {
        "id": "-Y3li_Sa1e-B"
      },
      "outputs": [],
      "source": [
        "df3 = df3.drop(['genero', 'establecimiento', 'ciudad', 'status_txn', 'marca', 'proveedor'],axis=1)"
      ]
    },
    {
      "cell_type": "code",
      "execution_count": 57,
      "metadata": {
        "id": "SkOMFxfs1myj"
      },
      "outputs": [],
      "source": [
        "df3 = pd.concat([df3, new_data], axis=1)"
      ]
    },
    {
      "cell_type": "code",
      "execution_count": 58,
      "metadata": {
        "colab": {
          "base_uri": "https://localhost:8080/",
          "height": 287
        },
        "id": "ArpaFLGt1vr3",
        "outputId": "d0c2c8e3-fbd8-4534-8532-014292661d34"
      },
      "outputs": [
        {
          "data": {
            "text/html": [
              "<div>\n",
              "<style scoped>\n",
              "    .dataframe tbody tr th:only-of-type {\n",
              "        vertical-align: middle;\n",
              "    }\n",
              "\n",
              "    .dataframe tbody tr th {\n",
              "        vertical-align: top;\n",
              "    }\n",
              "\n",
              "    .dataframe thead th {\n",
              "        text-align: right;\n",
              "    }\n",
              "</style>\n",
              "<table border=\"1\" class=\"dataframe\">\n",
              "  <thead>\n",
              "    <tr style=\"text-align: right;\">\n",
              "      <th></th>\n",
              "      <th>linea_tc</th>\n",
              "      <th>interes_tc</th>\n",
              "      <th>monto</th>\n",
              "      <th>hora</th>\n",
              "      <th>is_prime</th>\n",
              "      <th>fraude</th>\n",
              "      <th>genero_M</th>\n",
              "      <th>genero_N</th>\n",
              "      <th>establecimiento_Compra en línea</th>\n",
              "      <th>establecimiento_Farmacia</th>\n",
              "      <th>establecimiento_Supermercado</th>\n",
              "      <th>establecimiento_Tienda departamental</th>\n",
              "      <th>establecimiento_Unknown</th>\n",
              "      <th>ciudad_Ciudad de México</th>\n",
              "      <th>ciudad_Guadalajara</th>\n",
              "      <th>ciudad_Monterrey</th>\n",
              "      <th>ciudad_Nezahualcóyotl</th>\n",
              "      <th>ciudad_Tijuana</th>\n",
              "      <th>ciudad_Toluca</th>\n",
              "      <th>status_txn_En proceso</th>\n",
              "      <th>status_txn_Rechazada</th>\n",
              "      <th>marca_Huawei</th>\n",
              "      <th>marca_Motorola</th>\n",
              "      <th>marca_Samsung</th>\n",
              "      <th>proveedor_Movistar</th>\n",
              "      <th>proveedor_Telcel</th>\n",
              "    </tr>\n",
              "  </thead>\n",
              "  <tbody>\n",
              "    <tr>\n",
              "      <th>0</th>\n",
              "      <td>87000</td>\n",
              "      <td>56</td>\n",
              "      <td>581.03</td>\n",
              "      <td>0</td>\n",
              "      <td>False</td>\n",
              "      <td>False</td>\n",
              "      <td>1</td>\n",
              "      <td>0</td>\n",
              "      <td>0</td>\n",
              "      <td>1</td>\n",
              "      <td>0</td>\n",
              "      <td>0</td>\n",
              "      <td>0</td>\n",
              "      <td>1</td>\n",
              "      <td>0</td>\n",
              "      <td>0</td>\n",
              "      <td>0</td>\n",
              "      <td>0</td>\n",
              "      <td>0</td>\n",
              "      <td>0</td>\n",
              "      <td>0</td>\n",
              "      <td>0</td>\n",
              "      <td>0</td>\n",
              "      <td>0</td>\n",
              "      <td>0</td>\n",
              "      <td>1</td>\n",
              "    </tr>\n",
              "    <tr>\n",
              "      <th>1</th>\n",
              "      <td>34000</td>\n",
              "      <td>51</td>\n",
              "      <td>421.73</td>\n",
              "      <td>0</td>\n",
              "      <td>False</td>\n",
              "      <td>False</td>\n",
              "      <td>0</td>\n",
              "      <td>0</td>\n",
              "      <td>0</td>\n",
              "      <td>0</td>\n",
              "      <td>0</td>\n",
              "      <td>1</td>\n",
              "      <td>0</td>\n",
              "      <td>0</td>\n",
              "      <td>0</td>\n",
              "      <td>0</td>\n",
              "      <td>0</td>\n",
              "      <td>0</td>\n",
              "      <td>0</td>\n",
              "      <td>0</td>\n",
              "      <td>0</td>\n",
              "      <td>1</td>\n",
              "      <td>0</td>\n",
              "      <td>0</td>\n",
              "      <td>0</td>\n",
              "      <td>0</td>\n",
              "    </tr>\n",
              "    <tr>\n",
              "      <th>2</th>\n",
              "      <td>52000</td>\n",
              "      <td>38</td>\n",
              "      <td>399.55</td>\n",
              "      <td>0</td>\n",
              "      <td>False</td>\n",
              "      <td>False</td>\n",
              "      <td>0</td>\n",
              "      <td>0</td>\n",
              "      <td>0</td>\n",
              "      <td>1</td>\n",
              "      <td>0</td>\n",
              "      <td>0</td>\n",
              "      <td>0</td>\n",
              "      <td>0</td>\n",
              "      <td>0</td>\n",
              "      <td>0</td>\n",
              "      <td>0</td>\n",
              "      <td>1</td>\n",
              "      <td>0</td>\n",
              "      <td>1</td>\n",
              "      <td>0</td>\n",
              "      <td>0</td>\n",
              "      <td>0</td>\n",
              "      <td>0</td>\n",
              "      <td>0</td>\n",
              "      <td>0</td>\n",
              "    </tr>\n",
              "    <tr>\n",
              "      <th>3</th>\n",
              "      <td>67000</td>\n",
              "      <td>60</td>\n",
              "      <td>828.01</td>\n",
              "      <td>0</td>\n",
              "      <td>False</td>\n",
              "      <td>False</td>\n",
              "      <td>1</td>\n",
              "      <td>0</td>\n",
              "      <td>0</td>\n",
              "      <td>0</td>\n",
              "      <td>0</td>\n",
              "      <td>1</td>\n",
              "      <td>0</td>\n",
              "      <td>1</td>\n",
              "      <td>0</td>\n",
              "      <td>0</td>\n",
              "      <td>0</td>\n",
              "      <td>0</td>\n",
              "      <td>0</td>\n",
              "      <td>1</td>\n",
              "      <td>0</td>\n",
              "      <td>0</td>\n",
              "      <td>0</td>\n",
              "      <td>1</td>\n",
              "      <td>0</td>\n",
              "      <td>0</td>\n",
              "    </tr>\n",
              "    <tr>\n",
              "      <th>4</th>\n",
              "      <td>28000</td>\n",
              "      <td>52</td>\n",
              "      <td>886.04</td>\n",
              "      <td>0</td>\n",
              "      <td>False</td>\n",
              "      <td>False</td>\n",
              "      <td>0</td>\n",
              "      <td>0</td>\n",
              "      <td>0</td>\n",
              "      <td>0</td>\n",
              "      <td>1</td>\n",
              "      <td>0</td>\n",
              "      <td>0</td>\n",
              "      <td>0</td>\n",
              "      <td>0</td>\n",
              "      <td>0</td>\n",
              "      <td>0</td>\n",
              "      <td>0</td>\n",
              "      <td>0</td>\n",
              "      <td>0</td>\n",
              "      <td>0</td>\n",
              "      <td>0</td>\n",
              "      <td>0</td>\n",
              "      <td>1</td>\n",
              "      <td>0</td>\n",
              "      <td>1</td>\n",
              "    </tr>\n",
              "  </tbody>\n",
              "</table>\n",
              "</div>"
            ],
            "text/plain": [
              "   linea_tc  interes_tc   monto  hora  is_prime  fraude  genero_M  genero_N  establecimiento_Compra en línea  establecimiento_Farmacia  establecimiento_Supermercado  establecimiento_Tienda departamental  establecimiento_Unknown  ciudad_Ciudad de México  ciudad_Guadalajara  ciudad_Monterrey  ciudad_Nezahualcóyotl  ciudad_Tijuana  ciudad_Toluca  status_txn_En proceso  status_txn_Rechazada  marca_Huawei  marca_Motorola  marca_Samsung  proveedor_Movistar  proveedor_Telcel\n",
              "0     87000          56  581.03     0     False   False         1         0                                0                         1                             0                                     0                        0                        1                   0                 0                      0               0              0                      0                     0             0               0              0                   0                 1\n",
              "1     34000          51  421.73     0     False   False         0         0                                0                         0                             0                                     1                        0                        0                   0                 0                      0               0              0                      0                     0             1               0              0                   0                 0\n",
              "2     52000          38  399.55     0     False   False         0         0                                0                         1                             0                                     0                        0                        0                   0                 0                      0               1              0                      1                     0             0               0              0                   0                 0\n",
              "3     67000          60  828.01     0     False   False         1         0                                0                         0                             0                                     1                        0                        1                   0                 0                      0               0              0                      1                     0             0               0              1                   0                 0\n",
              "4     28000          52  886.04     0     False   False         0         0                                0                         0                             1                                     0                        0                        0                   0                 0                      0               0              0                      0                     0             0               0              1                   0                 1"
            ]
          },
          "execution_count": 58,
          "metadata": {},
          "output_type": "execute_result"
        }
      ],
      "source": [
        "df3.head()"
      ]
    },
    {
      "cell_type": "code",
      "execution_count": 59,
      "metadata": {
        "id": "bNgYPCZdsVoU"
      },
      "outputs": [],
      "source": [
        "#split dataset into features and label\n",
        "X= df3.drop(labels='fraude',axis=1)\n",
        "y= df3['fraude']"
      ]
    },
    {
      "cell_type": "code",
      "execution_count": 60,
      "metadata": {
        "colab": {
          "base_uri": "https://localhost:8080/"
        },
        "id": "dUW6lIFPAuH0",
        "outputId": "8c781b78-f856-429c-9f4b-6c6f5f5c5347"
      },
      "outputs": [
        {
          "name": "stdout",
          "output_type": "stream",
          "text": [
            "Original dataset shape Counter({False: 25837, True: 804})\n",
            "Resample dataset shape Counter({False: 25837, True: 25837})\n"
          ]
        }
      ],
      "source": [
        "from collections import Counter\n",
        "from imblearn.over_sampling import RandomOverSampler\n",
        "\n",
        "ros = RandomOverSampler(random_state=42)\n",
        "\n",
        "X_ros, y_ros = ros.fit_resample(X, y)\n",
        "print('Original dataset shape', Counter(y))\n",
        "print('Resample dataset shape', Counter(y_ros))"
      ]
    },
    {
      "cell_type": "code",
      "execution_count": 61,
      "metadata": {
        "id": "6T_B_TSHDMxU"
      },
      "outputs": [],
      "source": [
        "#split dataset into train and test\n",
        "from sklearn.model_selection import train_test_split\n",
        "X_train,X_test,y_train,y_test = train_test_split(X_ros,y_ros, test_size=0.2, random_state=0)"
      ]
    },
    {
      "cell_type": "code",
      "execution_count": 62,
      "metadata": {
        "id": "JhQYWkzD5U7k"
      },
      "outputs": [],
      "source": [
        "# will try to use below two models that are RandomForestClassifier and XGBClassifier\n",
        "from sklearn.ensemble import RandomForestClassifier\n",
        "from xgboost import XGBClassifier\n",
        "from sklearn.model_selection import GridSearchCV"
      ]
    },
    {
      "cell_type": "code",
      "execution_count": 190,
      "metadata": {
        "id": "FE-59dr35WjA"
      },
      "outputs": [],
      "source": [
        "# #create param\n",
        "# model_param = {\n",
        "#     'RandomForestClassifier':{\n",
        "#         'model':RandomForestClassifier(),\n",
        "#         'param':{\n",
        "#             'n_estimators': [10, 50, 100, 130], \n",
        "#             'criterion': ['gini', 'entropy'],\n",
        "#             'max_depth': range(2, 4, 1), \n",
        "#             'max_features': ['auto', 'log2']\n",
        "#         }\n",
        "#     },\n",
        "#     'XGBClassifier':{\n",
        "#         'model':XGBClassifier(objective='binary:logistic'),\n",
        "#         'param':{\n",
        "#            'learning_rate': [0.5, 0.1, 0.01, 0.001],\n",
        "#             'max_depth': [3, 5, 10, 20],\n",
        "#             'n_estimators': [10, 50, 100, 200]\n",
        "#         }\n",
        "#     }\n",
        "# }"
      ]
    },
    {
      "cell_type": "code",
      "execution_count": 191,
      "metadata": {
        "id": "Etc2tKO55YGY"
      },
      "outputs": [],
      "source": [
        "# scores =[]\n",
        "# for model_name, mp in model_param.items():\n",
        "#     model_selection = GridSearchCV(estimator=mp['model'],param_grid=mp['param'],cv=5,return_train_score=False)\n",
        "#     model_selection.fit(X_ros,y_ros)\n",
        "#     scores.append({\n",
        "#         'model': model_name,\n",
        "#         'best_score': model_selection.best_score_,\n",
        "#         'best_params': model_selection.best_params_\n",
        "#     })"
      ]
    },
    {
      "cell_type": "code",
      "execution_count": 63,
      "metadata": {
        "id": "PqbAZwpS84FR"
      },
      "outputs": [],
      "source": [
        "model_xgb = XGBClassifier(objective='binary:logistic',learning_rate=0.1,max_depth=20,n_estimators=200)"
      ]
    },
    {
      "cell_type": "code",
      "execution_count": 64,
      "metadata": {
        "colab": {
          "base_uri": "https://localhost:8080/"
        },
        "id": "s00JSbhn86Bi",
        "outputId": "6eb458e0-9a17-45d6-eeac-0e5b047873dd"
      },
      "outputs": [
        {
          "data": {
            "text/html": [
              "<style>#sk-container-id-2 {color: black;background-color: white;}#sk-container-id-2 pre{padding: 0;}#sk-container-id-2 div.sk-toggleable {background-color: white;}#sk-container-id-2 label.sk-toggleable__label {cursor: pointer;display: block;width: 100%;margin-bottom: 0;padding: 0.3em;box-sizing: border-box;text-align: center;}#sk-container-id-2 label.sk-toggleable__label-arrow:before {content: \"▸\";float: left;margin-right: 0.25em;color: #696969;}#sk-container-id-2 label.sk-toggleable__label-arrow:hover:before {color: black;}#sk-container-id-2 div.sk-estimator:hover label.sk-toggleable__label-arrow:before {color: black;}#sk-container-id-2 div.sk-toggleable__content {max-height: 0;max-width: 0;overflow: hidden;text-align: left;background-color: #f0f8ff;}#sk-container-id-2 div.sk-toggleable__content pre {margin: 0.2em;color: black;border-radius: 0.25em;background-color: #f0f8ff;}#sk-container-id-2 input.sk-toggleable__control:checked~div.sk-toggleable__content {max-height: 200px;max-width: 100%;overflow: auto;}#sk-container-id-2 input.sk-toggleable__control:checked~label.sk-toggleable__label-arrow:before {content: \"▾\";}#sk-container-id-2 div.sk-estimator input.sk-toggleable__control:checked~label.sk-toggleable__label {background-color: #d4ebff;}#sk-container-id-2 div.sk-label input.sk-toggleable__control:checked~label.sk-toggleable__label {background-color: #d4ebff;}#sk-container-id-2 input.sk-hidden--visually {border: 0;clip: rect(1px 1px 1px 1px);clip: rect(1px, 1px, 1px, 1px);height: 1px;margin: -1px;overflow: hidden;padding: 0;position: absolute;width: 1px;}#sk-container-id-2 div.sk-estimator {font-family: monospace;background-color: #f0f8ff;border: 1px dotted black;border-radius: 0.25em;box-sizing: border-box;margin-bottom: 0.5em;}#sk-container-id-2 div.sk-estimator:hover {background-color: #d4ebff;}#sk-container-id-2 div.sk-parallel-item::after {content: \"\";width: 100%;border-bottom: 1px solid gray;flex-grow: 1;}#sk-container-id-2 div.sk-label:hover label.sk-toggleable__label {background-color: #d4ebff;}#sk-container-id-2 div.sk-serial::before {content: \"\";position: absolute;border-left: 1px solid gray;box-sizing: border-box;top: 0;bottom: 0;left: 50%;z-index: 0;}#sk-container-id-2 div.sk-serial {display: flex;flex-direction: column;align-items: center;background-color: white;padding-right: 0.2em;padding-left: 0.2em;position: relative;}#sk-container-id-2 div.sk-item {position: relative;z-index: 1;}#sk-container-id-2 div.sk-parallel {display: flex;align-items: stretch;justify-content: center;background-color: white;position: relative;}#sk-container-id-2 div.sk-item::before, #sk-container-id-2 div.sk-parallel-item::before {content: \"\";position: absolute;border-left: 1px solid gray;box-sizing: border-box;top: 0;bottom: 0;left: 50%;z-index: -1;}#sk-container-id-2 div.sk-parallel-item {display: flex;flex-direction: column;z-index: 1;position: relative;background-color: white;}#sk-container-id-2 div.sk-parallel-item:first-child::after {align-self: flex-end;width: 50%;}#sk-container-id-2 div.sk-parallel-item:last-child::after {align-self: flex-start;width: 50%;}#sk-container-id-2 div.sk-parallel-item:only-child::after {width: 0;}#sk-container-id-2 div.sk-dashed-wrapped {border: 1px dashed gray;margin: 0 0.4em 0.5em 0.4em;box-sizing: border-box;padding-bottom: 0.4em;background-color: white;}#sk-container-id-2 div.sk-label label {font-family: monospace;font-weight: bold;display: inline-block;line-height: 1.2em;}#sk-container-id-2 div.sk-label-container {text-align: center;}#sk-container-id-2 div.sk-container {/* jupyter's `normalize.less` sets `[hidden] { display: none; }` but bootstrap.min.css set `[hidden] { display: none !important; }` so we also need the `!important` here to be able to override the default hidden behavior on the sphinx rendered scikit-learn.org. See: https://github.com/scikit-learn/scikit-learn/issues/21755 */display: inline-block !important;position: relative;}#sk-container-id-2 div.sk-text-repr-fallback {display: none;}</style><div id=\"sk-container-id-2\" class=\"sk-top-container\"><div class=\"sk-text-repr-fallback\"><pre>XGBClassifier(base_score=0.5, booster=&#x27;gbtree&#x27;, callbacks=None,\n",
              "              colsample_bylevel=1, colsample_bynode=1, colsample_bytree=1,\n",
              "              early_stopping_rounds=None, enable_categorical=False,\n",
              "              eval_metric=None, gamma=0, gpu_id=-1, grow_policy=&#x27;depthwise&#x27;,\n",
              "              importance_type=None, interaction_constraints=&#x27;&#x27;,\n",
              "              learning_rate=0.1, max_bin=256, max_cat_to_onehot=4,\n",
              "              max_delta_step=0, max_depth=20, max_leaves=0, min_child_weight=1,\n",
              "              missing=nan, monotone_constraints=&#x27;()&#x27;, n_estimators=200,\n",
              "              n_jobs=0, num_parallel_tree=1, predictor=&#x27;auto&#x27;, random_state=0,\n",
              "              reg_alpha=0, reg_lambda=1, ...)</pre><b>In a Jupyter environment, please rerun this cell to show the HTML representation or trust the notebook. <br />On GitHub, the HTML representation is unable to render, please try loading this page with nbviewer.org.</b></div><div class=\"sk-container\" hidden><div class=\"sk-item\"><div class=\"sk-estimator sk-toggleable\"><input class=\"sk-toggleable__control sk-hidden--visually\" id=\"sk-estimator-id-2\" type=\"checkbox\" checked><label for=\"sk-estimator-id-2\" class=\"sk-toggleable__label sk-toggleable__label-arrow\">XGBClassifier</label><div class=\"sk-toggleable__content\"><pre>XGBClassifier(base_score=0.5, booster=&#x27;gbtree&#x27;, callbacks=None,\n",
              "              colsample_bylevel=1, colsample_bynode=1, colsample_bytree=1,\n",
              "              early_stopping_rounds=None, enable_categorical=False,\n",
              "              eval_metric=None, gamma=0, gpu_id=-1, grow_policy=&#x27;depthwise&#x27;,\n",
              "              importance_type=None, interaction_constraints=&#x27;&#x27;,\n",
              "              learning_rate=0.1, max_bin=256, max_cat_to_onehot=4,\n",
              "              max_delta_step=0, max_depth=20, max_leaves=0, min_child_weight=1,\n",
              "              missing=nan, monotone_constraints=&#x27;()&#x27;, n_estimators=200,\n",
              "              n_jobs=0, num_parallel_tree=1, predictor=&#x27;auto&#x27;, random_state=0,\n",
              "              reg_alpha=0, reg_lambda=1, ...)</pre></div></div></div></div></div>"
            ],
            "text/plain": [
              "XGBClassifier(base_score=0.5, booster='gbtree', callbacks=None,\n",
              "              colsample_bylevel=1, colsample_bynode=1, colsample_bytree=1,\n",
              "              early_stopping_rounds=None, enable_categorical=False,\n",
              "              eval_metric=None, gamma=0, gpu_id=-1, grow_policy='depthwise',\n",
              "              importance_type=None, interaction_constraints='',\n",
              "              learning_rate=0.1, max_bin=256, max_cat_to_onehot=4,\n",
              "              max_delta_step=0, max_depth=20, max_leaves=0, min_child_weight=1,\n",
              "              missing=nan, monotone_constraints='()', n_estimators=200,\n",
              "              n_jobs=0, num_parallel_tree=1, predictor='auto', random_state=0,\n",
              "              reg_alpha=0, reg_lambda=1, ...)"
            ]
          },
          "execution_count": 64,
          "metadata": {},
          "output_type": "execute_result"
        }
      ],
      "source": [
        "model_xgb.fit(X_train,y_train)"
      ]
    },
    {
      "cell_type": "code",
      "execution_count": 65,
      "metadata": {
        "colab": {
          "base_uri": "https://localhost:8080/"
        },
        "id": "4R7cnJUd87iO",
        "outputId": "5bef58b2-ea41-4181-dcc0-25aaed05070b"
      },
      "outputs": [
        {
          "data": {
            "text/plain": [
              "0.9955491049830673"
            ]
          },
          "execution_count": 65,
          "metadata": {},
          "output_type": "execute_result"
        }
      ],
      "source": [
        "model_xgb.score(X_test,y_test)"
      ]
    },
    {
      "cell_type": "code",
      "execution_count": 35,
      "metadata": {
        "colab": {
          "base_uri": "https://localhost:8080/"
        },
        "id": "oLXg4zYc_eZE",
        "outputId": "28c25969-4da1-4d06-de9d-0416eea637da"
      },
      "outputs": [
        {
          "data": {
            "text/plain": [
              "array([[5060,   28],\n",
              "       [   0, 5247]], dtype=int64)"
            ]
          },
          "execution_count": 35,
          "metadata": {},
          "output_type": "execute_result"
        }
      ],
      "source": [
        "#Confusion Matrix\n",
        "from sklearn.metrics import confusion_matrix\n",
        "cm = confusion_matrix(y_test,model_xgb.predict(X_test))\n",
        "cm"
      ]
    },
    {
      "cell_type": "code",
      "execution_count": 36,
      "metadata": {
        "colab": {
          "base_uri": "https://localhost:8080/",
          "height": 279
        },
        "id": "uzyNqOH1_gIK",
        "outputId": "3dd20086-0185-46ac-c4e0-7b3e679f5f7e"
      },
      "outputs": [
        {
          "data": {
            "image/png": "[encoded data removed]",
            "text/plain": [
              "<Figure size 640x480 with 2 Axes>"
            ]
          },
          "metadata": {},
          "output_type": "display_data"
        }
      ],
      "source": [
        "#plot the graph\n",
        "from matplotlib import pyplot as plt\n",
        "import seaborn as sn\n",
        "sn.heatmap(cm, annot=True)\n",
        "plt.xlabel('Predicted')\n",
        "plt.ylabel('True Value')\n",
        "plt.show()"
      ]
    },
    {
      "cell_type": "markdown",
      "metadata": {
        "id": "HVnxoMcWC6Jr"
      },
      "source": [
        "# Pickle the model file for deployment\n"
      ]
    },
    {
      "cell_type": "code",
      "execution_count": 37,
      "metadata": {
        "id": "ZDaTmywR_knf"
      },
      "outputs": [],
      "source": [
        "import pickle"
      ]
    },
    {
      "cell_type": "code",
      "execution_count": 81,
      "metadata": {
        "id": "JCn4Njf8Doey"
      },
      "outputs": [],
      "source": [
        "pickle.dump(model_xgb, open('xgbmodel.pkl', 'wb'))"
      ]
    }
  ],
  "metadata": {
    "colab": {
      "collapsed_sections": [],
      "provenance": []
    },
    "kernelspec": {
      "display_name": "Python 3.9.13 ('venv': venv)",
      "language": "python",
      "name": "python3"
    },
    "language_info": {
      "codemirror_mode": {
        "name": "ipython",
        "version": 3
      },
      "file_extension": ".py",
      "mimetype": "text/x-python",
      "name": "python",
      "nbconvert_exporter": "python",
      "pygments_lexer": "ipython3",
      "version": "3.9.13"
    },
    "vscode": {
      "interpreter": {
        "hash": "a2edb7ccf5183c7a648e1a8f6f546bff0a593d542e007968cc504543fdf71078"
      }
    }
  },
  "nbformat": 4,
  "nbformat_minor": 0
}
